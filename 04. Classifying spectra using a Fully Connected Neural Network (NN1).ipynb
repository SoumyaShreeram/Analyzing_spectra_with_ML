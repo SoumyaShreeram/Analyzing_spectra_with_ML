{
  "cells": [
    {
      "cell_type": "markdown",
      "source": [
        "# Classifying spectra using a *Fully Connected Neural Network* (NN1)\n",
        "\n",
        "1. **Defining the input parameters**\n",
        "2. **Loading the training and testing data set**\n",
        "2. **Set up the architecture for the neural network**\n",
        "2. **Train the network**\n",
        "3. **Evaluate the result on the testing data set**"
      ],
      "metadata": {}
    },
    {
      "cell_type": "code",
      "source": [
        "import numpy as np\n",
        "import matplotlib.pyplot as plt\n",
        "from sklearn.metrics import confusion_matrix\n",
        "import pickle"
      ],
      "outputs": [],
      "execution_count": 1,
      "metadata": {
        "collapsed": false,
        "outputHidden": false,
        "inputHidden": false
      }
    },
    {
      "cell_type": "markdown",
      "source": [
        "To install **`tensorflow`** visit [here](https://tensorflow-object-detection-api-tutorial.readthedocs.io/en/latest/install.html) for instructions."
      ],
      "metadata": {}
    },
    {
      "cell_type": "code",
      "source": [
        "import tensorflow as tf\n",
        "import keras\n",
        "from keras.models import Sequential, load_model\n",
        "from keras.layers import (Dense, Conv1D, MaxPooling1D,\n",
        "                          Dropout, Flatten, BatchNormalization)\n",
        "from keras.optimizers import SGD, Adam\n",
        "from keras import regularizers"
      ],
      "outputs": [],
      "execution_count": 3,
      "metadata": {
        "collapsed": false,
        "outputHidden": false,
        "inputHidden": false
      }
    },
    {
      "cell_type": "markdown",
      "source": [
        "## 1. Defining the input parameters "
      ],
      "metadata": {}
    },
    {
      "cell_type": "code",
      "source": [
        "# code parameters used further\n",
        "epochs = 20\n",
        "batch_size = 30\n",
        "verbrose = 2"
      ],
      "outputs": [],
      "execution_count": null,
      "metadata": {
        "collapsed": false,
        "outputHidden": false,
        "inputHidden": false
      }
    },
    {
      "cell_type": "markdown",
      "source": [
        "## 1. Loading the training and testing data sets"
      ],
      "metadata": {}
    },
    {
      "cell_type": "code",
      "source": [
        "def loadTrainingTestingData():\n",
        "    X_train = np.load(\"Data_files/X_train.npy\", mmap_mode='r')\n",
        "    Y_train = np.load(\"Data_files/Y_train.npy\", mmap_mode='r')\n",
        "    X_test = np.load(\"Data_files/X_test.npy\", mmap_mode='r')\n",
        "    Y_test = np.load(\"Data_files/Y_test.npy\", mmap_mode='r')\n",
        "    return X_train, Y_train, X_test, Y_test"
      ],
      "outputs": [],
      "execution_count": 17,
      "metadata": {
        "collapsed": false,
        "outputHidden": false,
        "inputHidden": false
      }
    },
    {
      "cell_type": "code",
      "source": [
        "# reading the data\n",
        "X_train, Y_train, X_test, Y_test = loadTrainingTestingData()\n",
        "\n",
        "# converts the vectors of intergers to a binary matrix\n",
        "Y_train = keras.utils.to_categorical(Y_train)\n",
        "Y_test = keras.utils.to_categorical(Y_test)"
      ],
      "outputs": [],
      "execution_count": 18,
      "metadata": {
        "collapsed": false,
        "outputHidden": false,
        "inputHidden": false
      }
    },
    {
      "cell_type": "markdown",
      "source": [
        "## 2. Setting up the architecture for the neural network"
      ],
      "metadata": {}
    },
    {
      "cell_type": "code",
      "source": [
        "# Define placeholders\n",
        "\n",
        "# variables to be tuned"
      ],
      "outputs": [],
      "execution_count": null,
      "metadata": {
        "collapsed": false,
        "outputHidden": false,
        "inputHidden": false
      }
    },
    {
      "cell_type": "markdown",
      "source": [
        "### 2.1 Loss function optimization\n",
        "\n",
        "Training the data set implies that we are trying to optimize the loss function. Here, 'Cross entropy' is a method to define this loss function. "
      ],
      "metadata": {}
    },
    {
      "cell_type": "markdown",
      "source": [
        "## 3. Train the network"
      ],
      "metadata": {}
    },
    {
      "cell_type": "markdown",
      "source": [
        "## 4. Evaluate the result on the testing data set"
      ],
      "metadata": {}
    }
  ],
  "metadata": {
    "kernel_info": {
      "name": "qutip-env"
    },
    "language_info": {
      "name": "python",
      "version": "3.6.7",
      "mimetype": "text/x-python",
      "codemirror_mode": {
        "name": "ipython",
        "version": 3
      },
      "pygments_lexer": "ipython3",
      "nbconvert_exporter": "python",
      "file_extension": ".py"
    },
    "kernelspec": {
      "name": "qutip-env",
      "language": "python",
      "display_name": "Python (qutip-env)"
    },
    "nteract": {
      "version": "0.15.0"
    }
  },
  "nbformat": 4,
  "nbformat_minor": 0
}