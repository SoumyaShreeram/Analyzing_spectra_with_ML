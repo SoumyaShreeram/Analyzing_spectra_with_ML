{
  "cells": [
    {
      "cell_type": "markdown",
      "source": [
        "# Classifying spectra using a *Fully Connected Neural Network* (NN1)\n",
        "\n",
        "1. **Defining the input parameters**\n",
        "2. **Loading the training and testing data set**\n",
        "3. **Set up the architecture for the neural network**\n",
        "4. **Train the network** <br>\n",
        "    4.1. ****\n",
        "5. **Evaluate the result on the testing data set**"
      ],
      "metadata": {}
    },
    {
      "cell_type": "code",
      "source": [
        "import numpy as np\n",
        "import matplotlib.pyplot as plt\n",
        "plt.rcParams.update({'font.size': 16})\n",
        "from sklearn.metrics import confusion_matrix\n",
        "import pickle"
      ],
      "outputs": [],
      "execution_count": 40,
      "metadata": {
        "collapsed": false,
        "outputHidden": false,
        "inputHidden": false
      }
    },
    {
      "cell_type": "markdown",
      "source": [
        "To install **`tensorflow`** visit [here](https://tensorflow-object-detection-api-tutorial.readthedocs.io/en/latest/install.html) for instructions."
      ],
      "metadata": {}
    },
    {
      "cell_type": "code",
      "source": [
        "import tensorflow as tf\n",
        "import keras\n",
        "from keras.models import Sequential, load_model\n",
        "from keras.layers import (Dense, Conv1D, MaxPooling1D,\n",
        "                          Dropout, Flatten, BatchNormalization)\n",
        "from keras import optimizers\n",
        "from keras import regularizers"
      ],
      "outputs": [],
      "execution_count": 16,
      "metadata": {
        "collapsed": false,
        "outputHidden": false,
        "inputHidden": false
      }
    },
    {
      "cell_type": "markdown",
      "source": [
        "## 1. Defining the input parameters "
      ],
      "metadata": {}
    },
    {
      "cell_type": "code",
      "source": [
        "# code parameters used further\n",
        "epochs = 20\n",
        "batch_size = 30 \n",
        "verbrose = 2    # degree of info. outputted during training\n",
        "learning_rate=0.01"
      ],
      "outputs": [],
      "execution_count": 18,
      "metadata": {
        "collapsed": false,
        "outputHidden": false,
        "inputHidden": false
      }
    },
    {
      "cell_type": "markdown",
      "source": [
        "## 2. Loading the training and testing data sets"
      ],
      "metadata": {}
    },
    {
      "cell_type": "code",
      "source": [
        "def loadTrainingTestingData(data_names):\n",
        "    X_train = np.load(\"Data_files/\"+data_names[0]+\".npy\", mmap_mode='r')\n",
        "    Y_train = np.load(\"Data_files/\"+data_names[1]+\".npy\", mmap_mode='r')\n",
        "    X_test = np.load(\"Data_files/\"+data_names[2]+\".npy\", mmap_mode='r')\n",
        "    Y_test = np.load(\"Data_files/\"+data_names[3]+\".npy\", mmap_mode='r')\n",
        "    return X_train, Y_train, X_test, Y_test"
      ],
      "outputs": [],
      "execution_count": 21,
      "metadata": {
        "collapsed": false,
        "outputHidden": false,
        "inputHidden": false
      }
    },
    {
      "cell_type": "code",
      "source": [
        "# reading the data\n",
        "data_names = ['X_train', 'Y_train', 'X_test', 'Y_test']\n",
        "\n",
        "X_train, Y_train, X_test, Y_test = loadTrainingTestingData(data_names)\n",
        "data_sets = [X_train, Y_train, X_test, Y_test]\n",
        "\n",
        "# converts the vectors of intergers to a binary matrix\n",
        "Y_train = keras.utils.to_categorical(Y_train)\n",
        "Y_test = keras.utils.to_categorical(Y_test)\n",
        "\n",
        "# print shape of training and testing data sets\n",
        "for i in range(len(data_names)):\n",
        "               print(data_names[i],'=', np.shape(data_sets[i]))"
      ],
      "outputs": [
        {
          "output_type": "stream",
          "name": "stdout",
          "text": [
            "X_train = (7033, 4317)\n",
            "Y_train = (7033,)\n",
            "X_test = (3015, 4317)\n",
            "Y_test = (3015,)\n"
          ]
        }
      ],
      "execution_count": 35,
      "metadata": {
        "collapsed": false,
        "outputHidden": false,
        "inputHidden": false
      }
    },
    {
      "cell_type": "markdown",
      "source": [
        "## 3. Setting up the architecture for the neural network\n",
        "\n",
        "Training the data set implies that we are trying to optimize the loss function. \n",
        "\n",
        "* *Optimizer*: The optimizer chosen here is the Stochastic gradient descent optimizer (SGD); the list of other optimizers can be found [here](https://keras.io/optimizers/). \n",
        "\n",
        "* *Loss function*: Here, 'Cross entropy' is a method to define this loss function. "
      ],
      "metadata": {}
    },
    {
      "cell_type": "code",
      "source": [
        "model = Sequential()\n",
        "# 1 input layer, 1 hidden layer, and 1 output layer\n",
        "model.add(Dense(90, activation='relu', input_shape=(4317,)))\n",
        "model.add(Dense(30, activation='relu'))\n",
        "model.add(Dense(3, activation='softmax'))\n",
        "\n",
        "# optimizer \n",
        "sgd = optimizers.SGD(lr=learning_rate, momentum=0.0, nesterov=False)\n",
        "\n",
        "# compilation for a multi-category classification problem\n",
        "model.compile(optimizer=sgd, loss='categorical_crossentropy', metrics=['accuracy'])"
      ],
      "outputs": [],
      "execution_count": 19,
      "metadata": {
        "collapsed": false,
        "outputHidden": false,
        "inputHidden": false
      }
    },
    {
      "cell_type": "markdown",
      "source": [
        "## 4. Train the network\n",
        "\n",
        "The **`model.fit()`** fits the model to the data for the desired number of **`epochs`** (a pass through the entire training set), **`batch_size`** (number of training sample propogated at once through the network), and **`verbrose`** (degree of information printed out while training). "
      ],
      "metadata": {}
    },
    {
      "cell_type": "code",
      "source": [
        "model_history = model.fit(X_train, Y_train,\n",
        "                                  epochs=epochs, batch_size=batch_size,\n",
        "                                  validation_data=(X_test, Y_test),\n",
        "                                  verbose=verbrose)"
      ],
      "outputs": [
        {
          "output_type": "stream",
          "name": "stdout",
          "text": [
            "WARNING:tensorflow:From D:\\Anaconda2\\envs\\qutip-env\\lib\\site-packages\\tensorflow\\python\\ops\\math_ops.py:3066: to_int32 (from tensorflow.python.ops.math_ops) is deprecated and will be removed in a future version.\n",
            "Instructions for updating:\n",
            "Use tf.cast instead.\n",
            "Train on 7033 samples, validate on 3015 samples\n",
            "Epoch 1/20\n",
            " - 27s - loss: 0.7275 - acc: 0.8435 - val_loss: 0.5854 - val_acc: 0.8706\n",
            "Epoch 2/20\n",
            " - 2s - loss: 0.5833 - acc: 0.8651 - val_loss: 0.4992 - val_acc: 0.8836\n",
            "Epoch 3/20\n",
            " - 2s - loss: 0.4671 - acc: 0.8753 - val_loss: 0.8476 - val_acc: 0.7403\n",
            "Epoch 4/20\n",
            " - 1s - loss: 0.5316 - acc: 0.8661 - val_loss: 0.6188 - val_acc: 0.7983\n",
            "Epoch 5/20\n",
            " - 1s - loss: 0.4321 - acc: 0.8746 - val_loss: 0.4050 - val_acc: 0.8965\n",
            "Epoch 6/20\n",
            " - 1s - loss: 0.4930 - acc: 0.8773 - val_loss: 0.3969 - val_acc: 0.8925\n",
            "Epoch 7/20\n",
            " - 1s - loss: 0.4665 - acc: 0.8833 - val_loss: 0.4205 - val_acc: 0.8929\n",
            "Epoch 8/20\n",
            " - 1s - loss: 0.4825 - acc: 0.8749 - val_loss: 0.4411 - val_acc: 0.8869\n",
            "Epoch 9/20\n",
            " - 1s - loss: 0.5773 - acc: 0.8710 - val_loss: 3.9379 - val_acc: 0.6697\n",
            "Epoch 10/20\n",
            " - 1s - loss: 0.4634 - acc: 0.8787 - val_loss: 0.4121 - val_acc: 0.8988\n",
            "Epoch 11/20\n",
            " - 1s - loss: 0.3578 - acc: 0.8969 - val_loss: 0.4316 - val_acc: 0.9028\n",
            "Epoch 12/20\n",
            " - 1s - loss: 0.4486 - acc: 0.8902 - val_loss: 0.6342 - val_acc: 0.8849\n",
            "Epoch 13/20\n",
            " - 2s - loss: 0.3686 - acc: 0.8942 - val_loss: 0.3642 - val_acc: 0.9041\n",
            "Epoch 14/20\n",
            " - 2s - loss: 0.4029 - acc: 0.8986 - val_loss: 0.3743 - val_acc: 0.8988\n",
            "Epoch 15/20\n",
            " - 1s - loss: 0.4225 - acc: 0.8847 - val_loss: 0.3826 - val_acc: 0.8896\n",
            "Epoch 16/20\n",
            " - 1s - loss: 0.3501 - acc: 0.8983 - val_loss: 0.3940 - val_acc: 0.8892\n",
            "Epoch 17/20\n",
            " - 1s - loss: 0.4213 - acc: 0.8924 - val_loss: 0.3558 - val_acc: 0.8988\n",
            "Epoch 18/20\n",
            " - 1s - loss: 0.2872 - acc: 0.9099 - val_loss: 0.3369 - val_acc: 0.9038\n",
            "Epoch 19/20\n",
            " - 1s - loss: 0.2593 - acc: 0.9163 - val_loss: 0.3119 - val_acc: 0.9078\n",
            "Epoch 20/20\n",
            " - 1s - loss: 0.2432 - acc: 0.9182 - val_loss: 0.3335 - val_acc: 0.9055\n"
          ]
        }
      ],
      "execution_count": 37,
      "metadata": {
        "collapsed": false,
        "outputHidden": true,
        "inputHidden": false,
        "outputExpanded": true,
        "tags": []
      }
    },
    {
      "cell_type": "markdown",
      "source": [
        "### 4.1 Plot of the loss and accuracy curve for NN1"
      ],
      "metadata": {}
    },
    {
      "cell_type": "code",
      "source": [
        "def setLabels(ax, xlabel, ylabel, ticks):\n",
        "    \"\"\"\n",
        "    Function sets the axes labels, legent size, and ticks\n",
        "    \"\"\"\n",
        "    ax.set_xlabel(xlabel, fontsize=20)\n",
        "    ax.set_ylabel(ylabel, fontsize=20)\n",
        "    ax.legend(loc='center right', fontsize=18)\n",
        "    ax.grid()\n",
        "    if ticks:\n",
        "        ax.tick_params(which='both', labelsize=18)\n",
        "    return\n",
        "\n",
        "def plotLoss(ax, loss_Accuracy, labels):\n",
        "    \"\"\"\n",
        "    Function plots the loss curve for training run of x epochs\n",
        "    \"\"\"\n",
        "    ax.plot(history[loss_Accuracy[0]], 'r', lw=2, label=labels[0])\n",
        "    ax.plot(history[loss_Accuracy[1]], 'b', lw=2, label=labels[1])\n",
        "    ax.set_title('Loss curve for NN1\\n')\n",
        "    setLabels(ax, 'Epoch', r'$\\mathcal{L}\\ \\equiv$ Categorical cross entropy', ticks=True)\n",
        "    return\n",
        "\n",
        "def plotAccuracy(ax, loss_Accuracy, labels):\n",
        "    \"\"\"\n",
        "    Function plots the accuracy curve for training run of x epochs\n",
        "    \"\"\"\n",
        "    ax.plot(history[loss_Accuracy[2]],  'r', lw=2, label=labels[0])\n",
        "    ax.plot(history[loss_Accuracy[3]], 'b', lw=2, label=labels[1])\n",
        "    ax.set_title('Accuracy curve for NN1\\n')\n",
        "    setLabels(ax, 'Epoch', 'Accuracy (%)', ticks=True)\n",
        "    return"
      ],
      "outputs": [],
      "execution_count": 71,
      "metadata": {
        "collapsed": false,
        "outputHidden": false,
        "inputHidden": false
      }
    },
    {
      "cell_type": "markdown",
      "source": [
        "The loss and accuracy curves are plotted for NN1 for 20 epochs. "
      ],
      "metadata": {}
    },
    {
      "cell_type": "code",
      "source": [
        "# logs the history of the run\n",
        "history = model_history.history\n",
        "\n",
        "# plots the history\n",
        "fig, ax = plt.subplots(1,2, figsize=(14,6))\n",
        "labels = ['training', 'validation']\n",
        "loss_Accuracy = ['loss', 'val_loss', 'acc', 'val_acc']\n",
        "\n",
        "plotLoss(ax[0], loss_Accuracy, labels)\n",
        "plotAccuracy(ax[1], loss_Accuracy, labels)\n",
        " \n",
        "fig.tight_layout()"
      ],
      "outputs": [
        {
          "output_type": "display_data",
          "data": {
            "text/plain": [
              "<Figure size 1008x432 with 2 Axes>"
            ],
            "image/png": "[encoded data removed]"
          },
          "metadata": {
            "needs_background": "light"
          }
        }
      ],
      "execution_count": 70,
      "metadata": {
        "collapsed": false,
        "outputHidden": false,
        "inputHidden": false
      }
    },
    {
      "cell_type": "markdown",
      "source": [
        "## 5. Evaluate the result on the testing data set\n",
        "\n",
        "Once we have trained the model to make predictions on the data, we evaluate it's performance on the test data set."
      ],
      "metadata": {}
    },
    {
      "cell_type": "code",
      "source": [
        "def saveModel(history):\n",
        "    \"\"\"\n",
        "    Function to save the model and it's history\n",
        "    \"\"\"\n",
        "    path = 'Algos/NN_folder/NN1'\n",
        "    model.save(path+'.h5')\n",
        "    \n",
        "    with open(path+'_history.pkl', 'wb') as filehandler:\n",
        "        pickle.dump(history, filehandler)\n",
        "    print('\\nModel saved')\n",
        "    return"
      ],
      "outputs": [],
      "execution_count": 92,
      "metadata": {
        "collapsed": false,
        "outputHidden": false,
        "inputHidden": false
      }
    },
    {
      "cell_type": "code",
      "source": [
        "# predictions made on the test data set, computes the confusion matrix\n",
        "\n",
        "score = model.evaluate(X_test, Y_test,verbose=0)\n",
        "print('\\nLoss = %.2f percent, Accuracy = %.2f percent'%(score[0]*100, score[1]*100))\n",
        "\n",
        "saveModel(history)"
      ],
      "outputs": [
        {
          "output_type": "stream",
          "name": "stdout",
          "text": [
            "\n",
            "Loss = 33.35 percent, Accuracy = 90.55 percent\n",
            "\n",
            "Model saved\n"
          ]
        }
      ],
      "execution_count": 95,
      "metadata": {
        "collapsed": false,
        "outputHidden": false,
        "inputHidden": false
      }
    }
  ],
  "metadata": {
    "kernel_info": {
      "name": "qutip-env"
    },
    "language_info": {
      "name": "python",
      "version": "3.6.7",
      "mimetype": "text/x-python",
      "codemirror_mode": {
        "name": "ipython",
        "version": 3
      },
      "pygments_lexer": "ipython3",
      "nbconvert_exporter": "python",
      "file_extension": ".py"
    },
    "kernelspec": {
      "name": "qutip-env",
      "language": "python",
      "display_name": "Python (qutip-env)"
    },
    "nteract": {
      "version": "0.15.0"
    }
  },
  "nbformat": 4,
  "nbformat_minor": 0
}