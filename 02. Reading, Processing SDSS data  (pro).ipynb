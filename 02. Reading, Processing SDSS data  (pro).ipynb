{
  "cells": [
    {
      "cell_type": "markdown",
      "source": [
        "# SDSS eBOSS Data \n",
        "## Script on reading and pre-processing data, and plotting of the spectrum *for multiple files*.\n",
        "\n",
        "This script extracts useful data from the spPlate and spZbest fits files, and generates the training data set.\n",
        "\n",
        "1. **Defining input parameters**\n",
        "2. **Reading and pre-processing the data**\n",
        "3. **--**\n",
        "4. **--**\n",
        "\n",
        "**Data**: 14th Oct, 2019. <br>\n",
        "**Author**: Soumya Shreeram <br>\n",
        "**Supervised by**: Anand Raichoor <br>\n",
        "**Script adapted from**: S. Ben Nejma\n"
      ],
      "metadata": {
        "collapsed": false,
        "outputHidden": false,
        "inputHidden": false
      }
    }
  ],
  "metadata": {
    "kernel_info": {
      "name": "python3"
    },
    "language_info": {
      "name": "python",
      "version": "3.7.0",
      "mimetype": "text/x-python",
      "codemirror_mode": {
        "name": "ipython",
        "version": 3
      },
      "pygments_lexer": "ipython3",
      "nbconvert_exporter": "python",
      "file_extension": ".py"
    },
    "kernelspec": {
      "name": "python3",
      "language": "python",
      "display_name": "Python 3"
    },
    "nteract": {
      "version": "0.12.3"
    }
  },
  "nbformat": 4,
  "nbformat_minor": 4
}