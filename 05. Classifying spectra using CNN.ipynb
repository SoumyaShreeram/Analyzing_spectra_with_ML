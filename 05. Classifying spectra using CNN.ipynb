{
  "cells": [
    {
      "cell_type": "markdown",
      "source": [
        "# Classifying spectra using a *Convolutional Neural Network* (CNN) \n",
        "\n",
        "1. **Defining the input parameters**\n",
        "2. **Loading the training and testing data set**\n",
        "3. **Setting up the architecture for neural network**\n",
        "4. **Train the network** <br>\n",
        "    4.1 **Plot the loss and accuracy curve for CNN**\n",
        "5. **Evaluate the result on the testing data set**\n",
        "\n",
        "**Data**: 02nd Dec 2019<br>\n",
        "**Author**: Soumya Shreeram<br>\n",
        "**Guidance from**: Schäfer Christoph E. Rerné<br>\n",
        "**Script adapted from**: S. Ben Nejma"
      ],
      "metadata": {}
    },
    {
      "cell_type": "code",
      "source": [
        "import numpy as np\n",
        "import matplotlib.pyplot as plt\n",
        "plt.rcParams.update({'font.size': 20})\n",
        "from sklearn.metrics import confusion_matrix\n",
        "import pickle\n",
        "import os"
      ],
      "outputs": [],
      "execution_count": 25,
      "metadata": {
        "collapsed": false,
        "outputHidden": false,
        "inputHidden": false
      }
    },
    {
      "cell_type": "markdown",
      "source": [
        "Loading the machine learning packages `tensorflow` and `keras`."
      ],
      "metadata": {}
    },
    {
      "cell_type": "code",
      "source": [
        "import tensorflow as tf\n",
        "import keras\n",
        "from keras.models import Sequential, load_model\n",
        "from keras.layers import (Dense, Conv1D, MaxPooling1D, AveragePooling1D,\n",
        "                          Dropout, Flatten, BatchNormalization)\n",
        "from keras import optimizers\n",
        "from keras import regularizers\n",
        "from keras.callbacks import ModelCheckpoint"
      ],
      "outputs": [],
      "execution_count": 19,
      "metadata": {
        "collapsed": false,
        "outputHidden": false,
        "inputHidden": false
      }
    },
    {
      "cell_type": "markdown",
      "source": [
        "## 1. Defining the input parameters "
      ],
      "metadata": {}
    },
    {
      "cell_type": "code",
      "source": [
        "# code parameters used further\n",
        "epochs = 100\n",
        "batch_size = 40 \n",
        "verbrose = 2    # degree of info. outputted during training\n",
        "learning_rate=0.001\n",
        "\n",
        "# directory to save model\n",
        "save_model_dir = 'Algos/NN_folder/CNN'\n",
        "\n",
        "# do you want to reuse a previously trained model?\n",
        "reuse = False"
      ],
      "outputs": [],
      "execution_count": 12,
      "metadata": {
        "collapsed": false,
        "outputHidden": false,
        "inputHidden": false
      }
    },
    {
      "cell_type": "markdown",
      "source": [
        "## 2. Loading the training and testing data sets"
      ],
      "metadata": {}
    },
    {
      "cell_type": "code",
      "source": [
        "def loadTrainingTestingData(data_names):\n",
        "    X_train = np.load(\"Data_files/\"+data_names[0]+\".npy\", mmap_mode='r')\n",
        "    Y_train = np.load(\"Data_files/\"+data_names[1]+\".npy\", mmap_mode='r')\n",
        "    X_test = np.load(\"Data_files/\"+data_names[2]+\".npy\", mmap_mode='r')\n",
        "    Y_test = np.load(\"Data_files/\"+data_names[3]+\".npy\", mmap_mode='r')\n",
        "    return X_train, Y_train, X_test, Y_test\n",
        "\n",
        "def processTrainTestSets(data_sets):\n",
        "    \"\"\"\n",
        "    Function 1) Converts the Y-vectors of intergers to a binary matrix\n",
        "             2) Reshapes the X-vectors to 1 channel samples\n",
        "    \"\"\"\n",
        "    # converts the vectors of intergers to a binary matrix\n",
        "    Y_train = keras.utils.to_categorical(data_sets[1])\n",
        "    Y_test = keras.utils.to_categorical(data_sets[3])\n",
        "\n",
        "    # reshaping the X-vectors\n",
        "    train_shape = (data_sets[0].shape[0], data_sets[0].shape[1], 1)\n",
        "    test_shape = (data_sets[2].shape[0], data_sets[2].shape[1], 1)\n",
        "    \n",
        "    X_train = data_sets[0].reshape(train_shape)\n",
        "    X_test = data_sets[2].reshape(test_shape)\n",
        "    return X_train, Y_train, X_test, Y_test"
      ],
      "outputs": [],
      "execution_count": 14,
      "metadata": {
        "collapsed": false,
        "outputHidden": false,
        "inputHidden": false
      }
    },
    {
      "cell_type": "code",
      "source": [
        "# reading the data\n",
        "data_names = ['X_train', 'Y_train', 'X_test', 'Y_test']\n",
        "\n",
        "X_train, Y_train, X_test, Y_test = loadTrainingTestingData(data_names)\n",
        "data_sets = [X_train, Y_train, X_test, Y_test]\n",
        "\n",
        "# converting Y-vectors to a binary matrix and reshaping the X-vectors\n",
        "X_train, Y_train, X_test, Y_test = processTrainTestSets(data_sets)\n",
        "\n",
        "# print shape of training and testing data sets\n",
        "for i in range(len(data_names)):\n",
        "               print(data_names[i],'=', np.shape(data_sets[i]))"
      ],
      "outputs": [
        {
          "output_type": "stream",
          "name": "stdout",
          "text": [
            "X_train = (7033, 4317)\n",
            "Y_train = (7033,)\n",
            "X_test = (3015, 4317)\n",
            "Y_test = (3015,)\n"
          ]
        }
      ],
      "execution_count": 15,
      "metadata": {
        "collapsed": false,
        "outputHidden": false,
        "inputHidden": false
      }
    },
    {
      "cell_type": "markdown",
      "source": [
        "## 3. Setting up the architecture for the neural network\n",
        "\n",
        "Training the data set implies that we are trying to optimize the loss function. \n",
        "\n",
        "* *Optimizer*: The optimizer chosen here is the Stochastic gradient descent optimizer (SGD); the list of other optimizers can be found [here](https://keras.io/optimizers/). \n",
        "\n",
        "* *Loss function*: Here, 'Cross entropy' is a method to define this loss function. "
      ],
      "metadata": {}
    },
    {
      "cell_type": "code",
      "source": [
        "def reuseModel(save_model_dir):\n",
        "    \"\"\"\n",
        "    Function loads a previously trained model\n",
        "    \"\"\"\n",
        "    with open(save_model_dir+'_history.pkl', 'rb') as filehandler:\n",
        "            history = pickle.load(filehandler)\n",
        "    return load_model(save_model_dir+'.h5')"
      ],
      "outputs": [],
      "execution_count": 16,
      "metadata": {
        "collapsed": false,
        "outputHidden": false,
        "inputHidden": false
      }
    },
    {
      "cell_type": "code",
      "source": [
        "if reuse:\n",
        "    model = reuseModel(save_model_dir)\n",
        "else:    \n",
        "    # model architecture\n",
        "    model = Sequential()\n",
        "    model.add(AveragePooling1D(pool_size=5))\n",
        "    model.add(Conv1D(16, 3, activation='relu'))\n",
        "    model.add(Conv1D(32, 3, activation='relu'))\n",
        "    model.add(Flatten())\n",
        "    model.add(Dense(64, activation='relu'))\n",
        "    model.add(Dense(3, activation='softmax'))\n",
        "\n",
        "    # optimizer \n",
        "    sgd = optimizers.SGD(lr=learning_rate, momentum=0.5, nesterov=False)\n",
        "\n",
        "    model.compile(optimizer=sgd, loss='categorical_crossentropy', metrics=['accuracy'])\n",
        "\n",
        "    call_back = ModelCheckpoint('Algos/NN_folder/weights.{epoch:02d}'\n",
        "                                '-{val_loss:.2f}.h5',\n",
        "                                monitor='val_loss')"
      ],
      "outputs": [],
      "execution_count": 29,
      "metadata": {
        "collapsed": false,
        "outputHidden": false,
        "inputHidden": false
      }
    },
    {
      "cell_type": "markdown",
      "source": [
        "## 4. Train the network\n",
        "\n",
        "The **`model.fit()`** fits the model to the data for the desired number of **`epochs`** (a pass through the entire training set), **`batch_size`** (number of training sample propogated at once through the network), and **`verbrose`** (degree of information printed out while training). "
      ],
      "metadata": {}
    },
    {
      "cell_type": "code",
      "source": [
        "model_history = model.fit(X_train, Y_train,\n",
        "                                  epochs=epochs, batch_size=batch_size,\n",
        "                                  validation_data=(X_test, Y_test),\n",
        "                                  verbose=verbrose)"
      ],
      "outputs": [
        {
          "output_type": "stream",
          "name": "stdout",
          "text": [
            "Train on 7033 samples, validate on 3015 samples\n",
            "Epoch 1/100\n",
            " - 9s - loss: 0.7105 - acc: 0.8460 - val_loss: 0.5840 - val_acc: 0.8756\n",
            "Epoch 2/100\n",
            " - 9s - loss: 0.5301 - acc: 0.8570 - val_loss: 0.4247 - val_acc: 0.8677\n",
            "Epoch 3/100\n",
            " - 10s - loss: 0.4229 - acc: 0.8671 - val_loss: 0.3702 - val_acc: 0.8690\n",
            "Epoch 4/100\n",
            " - 9s - loss: 0.4258 - acc: 0.8676 - val_loss: 0.3407 - val_acc: 0.8839\n",
            "Epoch 5/100\n",
            " - 9s - loss: 0.3560 - acc: 0.8818 - val_loss: 0.3264 - val_acc: 0.8869\n",
            "Epoch 6/100\n",
            " - 9s - loss: 0.3475 - acc: 0.8872 - val_loss: 0.3258 - val_acc: 0.8919\n",
            "Epoch 7/100\n",
            " - 10s - loss: 0.3181 - acc: 0.8956 - val_loss: 0.3142 - val_acc: 0.8879\n",
            "Epoch 8/100\n",
            " - 9s - loss: 0.3313 - acc: 0.8955 - val_loss: 0.2999 - val_acc: 0.9018\n",
            "Epoch 9/100\n",
            " - 9s - loss: 0.2962 - acc: 0.9022 - val_loss: 0.3411 - val_acc: 0.8892\n",
            "Epoch 10/100\n",
            " - 9s - loss: 0.2932 - acc: 0.9025 - val_loss: 0.2842 - val_acc: 0.8978\n",
            "Epoch 11/100\n",
            " - 8s - loss: 0.2939 - acc: 0.9056 - val_loss: 0.2805 - val_acc: 0.9181\n",
            "Epoch 12/100\n",
            " - 9s - loss: 0.2983 - acc: 0.9108 - val_loss: 0.2778 - val_acc: 0.9032\n",
            "Epoch 13/100\n",
            " - 8s - loss: 0.2687 - acc: 0.9143 - val_loss: 0.3000 - val_acc: 0.9041\n",
            "Epoch 14/100\n",
            " - 9s - loss: 0.2873 - acc: 0.9140 - val_loss: 0.2795 - val_acc: 0.9141\n",
            "Epoch 15/100\n",
            " - 9s - loss: 0.2686 - acc: 0.9187 - val_loss: 0.2491 - val_acc: 0.9237\n",
            "Epoch 16/100\n",
            " - 9s - loss: 0.2448 - acc: 0.9218 - val_loss: 0.2681 - val_acc: 0.9061\n",
            "Epoch 17/100\n",
            " - 9s - loss: 0.2675 - acc: 0.9177 - val_loss: 0.2650 - val_acc: 0.9234\n",
            "Epoch 18/100\n",
            " - 9s - loss: 0.2831 - acc: 0.9141 - val_loss: 0.2705 - val_acc: 0.9134\n",
            "Epoch 19/100\n",
            " - 9s - loss: 0.2529 - acc: 0.9228 - val_loss: 0.2555 - val_acc: 0.9201\n",
            "Epoch 20/100\n",
            " - 9s - loss: 0.2590 - acc: 0.9221 - val_loss: 0.4452 - val_acc: 0.8839\n",
            "Epoch 21/100\n",
            " - 9s - loss: 0.2634 - acc: 0.9225 - val_loss: 0.2743 - val_acc: 0.9211\n",
            "Epoch 22/100\n",
            " - 9s - loss: 0.2431 - acc: 0.9278 - val_loss: 0.2471 - val_acc: 0.9197\n",
            "Epoch 23/100\n",
            " - 8s - loss: 0.2314 - acc: 0.9308 - val_loss: 0.3000 - val_acc: 0.8995\n",
            "Epoch 24/100\n",
            " - 8s - loss: 0.2519 - acc: 0.9265 - val_loss: 0.3129 - val_acc: 0.8945\n",
            "Epoch 25/100\n",
            " - 9s - loss: 0.2328 - acc: 0.9322 - val_loss: 0.2352 - val_acc: 0.9297\n",
            "Epoch 26/100\n",
            " - 8s - loss: 0.2251 - acc: 0.9357 - val_loss: 0.2436 - val_acc: 0.9240\n",
            "Epoch 27/100\n",
            " - 9s - loss: 0.2227 - acc: 0.9330 - val_loss: 0.2258 - val_acc: 0.9303\n",
            "Epoch 28/100\n",
            " - 9s - loss: 0.2157 - acc: 0.9350 - val_loss: 0.2453 - val_acc: 0.9310\n",
            "Epoch 29/100\n",
            " - 9s - loss: 0.2577 - acc: 0.9282 - val_loss: 0.2640 - val_acc: 0.9284\n",
            "Epoch 30/100\n",
            " - 9s - loss: 0.2062 - acc: 0.9426 - val_loss: 0.2192 - val_acc: 0.9323\n",
            "Epoch 31/100\n",
            " - 9s - loss: 0.2384 - acc: 0.9337 - val_loss: 0.2306 - val_acc: 0.9284\n",
            "Epoch 32/100\n",
            " - 9s - loss: 0.2205 - acc: 0.9393 - val_loss: 0.2221 - val_acc: 0.9323\n",
            "Epoch 33/100\n",
            " - 9s - loss: 0.2197 - acc: 0.9370 - val_loss: 0.2345 - val_acc: 0.9287\n",
            "Epoch 34/100\n",
            " - 8s - loss: 0.2053 - acc: 0.9401 - val_loss: 0.2187 - val_acc: 0.9337\n",
            "Epoch 35/100\n",
            " - 9s - loss: 0.2064 - acc: 0.9413 - val_loss: 0.2292 - val_acc: 0.9317\n",
            "Epoch 36/100\n",
            " - 9s - loss: 0.2290 - acc: 0.9374 - val_loss: 0.2244 - val_acc: 0.9330\n",
            "Epoch 37/100\n",
            " - 9s - loss: 0.2018 - acc: 0.9430 - val_loss: 0.2242 - val_acc: 0.9330\n",
            "Epoch 38/100\n",
            " - 9s - loss: 0.1938 - acc: 0.9424 - val_loss: 0.2231 - val_acc: 0.9350\n",
            "Epoch 39/100\n",
            " - 8s - loss: 0.2094 - acc: 0.9430 - val_loss: 0.2345 - val_acc: 0.9333\n",
            "Epoch 40/100\n",
            " - 9s - loss: 0.1962 - acc: 0.9461 - val_loss: 0.2311 - val_acc: 0.9343\n",
            "Epoch 41/100\n",
            " - 9s - loss: 0.1816 - acc: 0.9474 - val_loss: 0.2501 - val_acc: 0.9274\n",
            "Epoch 42/100\n",
            " - 8s - loss: 0.1768 - acc: 0.9498 - val_loss: 0.2136 - val_acc: 0.9353\n",
            "Epoch 43/100\n",
            " - 9s - loss: 0.2019 - acc: 0.9458 - val_loss: 0.2318 - val_acc: 0.9323\n",
            "Epoch 44/100\n",
            " - 9s - loss: 0.2157 - acc: 0.9387 - val_loss: 0.2236 - val_acc: 0.9363\n",
            "Epoch 45/100\n",
            " - 9s - loss: 0.1662 - acc: 0.9527 - val_loss: 0.2233 - val_acc: 0.9347\n",
            "Epoch 46/100\n",
            " - 8s - loss: 0.2195 - acc: 0.9411 - val_loss: 0.2226 - val_acc: 0.9297\n",
            "Epoch 47/100\n",
            " - 8s - loss: 0.1685 - acc: 0.9528 - val_loss: 0.2219 - val_acc: 0.9370\n",
            "Epoch 48/100\n",
            " - 8s - loss: 0.1974 - acc: 0.9443 - val_loss: 0.2352 - val_acc: 0.9370\n",
            "Epoch 49/100\n",
            " - 8s - loss: 0.1786 - acc: 0.9505 - val_loss: 0.2230 - val_acc: 0.9340\n",
            "Epoch 50/100\n",
            " - 8s - loss: 0.1789 - acc: 0.9505 - val_loss: 0.2438 - val_acc: 0.9250\n",
            "Epoch 51/100\n",
            " - 8s - loss: 0.1648 - acc: 0.9551 - val_loss: 0.2432 - val_acc: 0.9380\n",
            "Epoch 52/100\n",
            " - 8s - loss: 0.1642 - acc: 0.9544 - val_loss: 0.2286 - val_acc: 0.9360\n",
            "Epoch 53/100\n",
            " - 8s - loss: 0.1864 - acc: 0.9519 - val_loss: 0.2171 - val_acc: 0.9383\n",
            "Epoch 54/100\n",
            " - 8s - loss: 0.1665 - acc: 0.9539 - val_loss: 0.2140 - val_acc: 0.9383\n",
            "Epoch 55/100\n",
            " - 9s - loss: 0.1529 - acc: 0.9578 - val_loss: 0.2107 - val_acc: 0.9380\n",
            "Epoch 56/100\n",
            " - 8s - loss: 0.1528 - acc: 0.9551 - val_loss: 0.2194 - val_acc: 0.9383\n",
            "Epoch 57/100\n",
            " - 8s - loss: 0.1505 - acc: 0.9596 - val_loss: 0.2187 - val_acc: 0.9390\n",
            "Epoch 58/100\n",
            " - 8s - loss: 0.1575 - acc: 0.9573 - val_loss: 0.2287 - val_acc: 0.9370\n",
            "Epoch 59/100\n",
            " - 9s - loss: 0.1504 - acc: 0.9583 - val_loss: 0.2200 - val_acc: 0.9386\n",
            "Epoch 60/100\n",
            " - 8s - loss: 0.1546 - acc: 0.9556 - val_loss: 0.2174 - val_acc: 0.9416\n",
            "Epoch 61/100\n",
            " - 8s - loss: 0.1447 - acc: 0.9595 - val_loss: 0.2179 - val_acc: 0.9363\n",
            "Epoch 62/100\n",
            " - 9s - loss: 0.1518 - acc: 0.9610 - val_loss: 0.2201 - val_acc: 0.9406\n",
            "Epoch 63/100\n",
            " - 9s - loss: 0.1895 - acc: 0.9535 - val_loss: 0.2573 - val_acc: 0.9297\n",
            "Epoch 64/100\n",
            " - 9s - loss: 0.1777 - acc: 0.9525 - val_loss: 0.2756 - val_acc: 0.9244\n",
            "Epoch 65/100\n",
            " - 8s - loss: 0.1549 - acc: 0.9566 - val_loss: 0.2527 - val_acc: 0.9323\n",
            "Epoch 66/100\n",
            " - 8s - loss: 0.1513 - acc: 0.9588 - val_loss: 0.2541 - val_acc: 0.9257\n",
            "Epoch 67/100\n",
            " - 8s - loss: 0.1909 - acc: 0.9515 - val_loss: 0.2172 - val_acc: 0.9410\n",
            "Epoch 68/100\n",
            " - 8s - loss: 0.1423 - acc: 0.9608 - val_loss: 0.2435 - val_acc: 0.9317\n",
            "Epoch 69/100\n",
            " - 8s - loss: 0.1406 - acc: 0.9618 - val_loss: 0.2160 - val_acc: 0.9413\n",
            "Epoch 70/100\n",
            " - 9s - loss: 0.1555 - acc: 0.9565 - val_loss: 0.2208 - val_acc: 0.9390\n",
            "Epoch 71/100\n",
            " - 8s - loss: 0.1384 - acc: 0.9629 - val_loss: 0.2159 - val_acc: 0.9403\n",
            "Epoch 72/100\n",
            " - 8s - loss: 0.1341 - acc: 0.9646 - val_loss: 0.2237 - val_acc: 0.9410\n",
            "Epoch 73/100\n",
            " - 8s - loss: 0.1358 - acc: 0.9629 - val_loss: 0.2176 - val_acc: 0.9383\n",
            "Epoch 74/100\n",
            " - 8s - loss: 0.1446 - acc: 0.9619 - val_loss: 0.2179 - val_acc: 0.9393\n",
            "Epoch 75/100\n",
            " - 9s - loss: 0.1371 - acc: 0.9656 - val_loss: 0.2328 - val_acc: 0.9406\n",
            "Epoch 76/100\n",
            " - 9s - loss: 0.1458 - acc: 0.9595 - val_loss: 0.2391 - val_acc: 0.9376\n",
            "Epoch 77/100\n",
            " - 9s - loss: 0.1416 - acc: 0.9613 - val_loss: 0.2647 - val_acc: 0.9287\n",
            "Epoch 78/100\n",
            " - 8s - loss: 0.1399 - acc: 0.9645 - val_loss: 0.2257 - val_acc: 0.9416\n",
            "Epoch 79/100\n",
            " - 9s - loss: 0.1351 - acc: 0.9657 - val_loss: 0.2203 - val_acc: 0.9430\n",
            "Epoch 80/100\n",
            " - 9s - loss: 0.1329 - acc: 0.9649 - val_loss: 0.2185 - val_acc: 0.9410\n",
            "Epoch 81/100\n",
            " - 8s - loss: 0.1280 - acc: 0.9645 - val_loss: 0.2190 - val_acc: 0.9400\n",
            "Epoch 82/100\n",
            " - 9s - loss: 0.1234 - acc: 0.9670 - val_loss: 0.2137 - val_acc: 0.9403\n",
            "Epoch 83/100\n",
            " - 9s - loss: 0.1275 - acc: 0.9679 - val_loss: 0.2215 - val_acc: 0.9386\n",
            "Epoch 84/100\n",
            " - 9s - loss: 0.1256 - acc: 0.9679 - val_loss: 0.2198 - val_acc: 0.9390\n",
            "Epoch 85/100\n",
            " - 8s - loss: 0.1202 - acc: 0.9682 - val_loss: 0.2102 - val_acc: 0.9393\n",
            "Epoch 86/100\n",
            " - 8s - loss: 0.1288 - acc: 0.9669 - val_loss: 0.2324 - val_acc: 0.9420\n",
            "Epoch 87/100\n",
            " - 9s - loss: 0.1190 - acc: 0.9689 - val_loss: 0.2197 - val_acc: 0.9436\n",
            "Epoch 88/100\n",
            " - 8s - loss: 0.1218 - acc: 0.9673 - val_loss: 0.2262 - val_acc: 0.9420\n",
            "Epoch 89/100\n",
            " - 8s - loss: 0.1174 - acc: 0.9707 - val_loss: 0.2165 - val_acc: 0.9400\n",
            "Epoch 90/100\n",
            " - 8s - loss: 0.1175 - acc: 0.9683 - val_loss: 0.2223 - val_acc: 0.9376\n",
            "Epoch 91/100\n",
            " - 9s - loss: 0.1203 - acc: 0.9686 - val_loss: 0.2219 - val_acc: 0.9433\n",
            "Epoch 92/100\n",
            " - 8s - loss: 0.1130 - acc: 0.9720 - val_loss: 0.2264 - val_acc: 0.9403\n",
            "Epoch 93/100\n",
            " - 8s - loss: 0.1357 - acc: 0.9670 - val_loss: 0.2234 - val_acc: 0.9433\n",
            "Epoch 94/100\n",
            " - 8s - loss: 0.1400 - acc: 0.9676 - val_loss: 0.2289 - val_acc: 0.9416\n",
            "Epoch 95/100\n",
            " - 9s - loss: 0.1278 - acc: 0.9701 - val_loss: 0.2167 - val_acc: 0.9423\n",
            "Epoch 96/100\n",
            " - 9s - loss: 0.1133 - acc: 0.9728 - val_loss: 0.2200 - val_acc: 0.9410\n",
            "Epoch 97/100\n",
            " - 8s - loss: 0.1248 - acc: 0.9696 - val_loss: 0.2323 - val_acc: 0.9406\n",
            "Epoch 98/100\n",
            " - 8s - loss: 0.1374 - acc: 0.9666 - val_loss: 0.2472 - val_acc: 0.9350\n",
            "Epoch 99/100\n",
            " - 9s - loss: 0.1196 - acc: 0.9716 - val_loss: 0.2208 - val_acc: 0.9416\n",
            "Epoch 100/100\n",
            " - 8s - loss: 0.1066 - acc: 0.9723 - val_loss: 0.2152 - val_acc: 0.9410\n"
          ]
        }
      ],
      "execution_count": 30,
      "metadata": {
        "collapsed": false,
        "outputHidden": true,
        "inputHidden": false
      }
    },
    {
      "cell_type": "markdown",
      "source": [
        "### 4.1 Plot of the loss and accuracy curve for NN1"
      ],
      "metadata": {}
    },
    {
      "cell_type": "code",
      "source": [
        "def setLabels(ax, xlabel, ylabel, ticks):\n",
        "    \"\"\"\n",
        "    Function sets the axes labels, legent size, and ticks\n",
        "    \"\"\"\n",
        "    ax.set_xlabel(xlabel, fontsize=20)\n",
        "    ax.set_ylabel(ylabel, fontsize=20)\n",
        "    ax.legend(loc='center right', fontsize=18)\n",
        "    ax.grid()\n",
        "    if ticks:\n",
        "        ax.tick_params(which='both', labelsize=18)\n",
        "    return\n",
        "\n",
        "def plotLoss(ax, loss_Accuracy, labels):\n",
        "    \"\"\"\n",
        "    Function plots the loss curve for training run of x epochs\n",
        "    \"\"\"\n",
        "    ax.plot(history[loss_Accuracy[0]], 'r', lw=2, label=labels[0])\n",
        "    ax.plot(history[loss_Accuracy[1]], 'b', lw=2, label=labels[1])\n",
        "    ax.set_title('Loss curve for NN1\\n')\n",
        "    setLabels(ax, 'Epoch', r'$\\mathcal{L}\\ \\equiv$ Categorical cross entropy', ticks=True)\n",
        "    return\n",
        "\n",
        "def plotAccuracy(ax, loss_Accuracy, labels):\n",
        "    \"\"\"\n",
        "    Function plots the accuracy curve for training run of x epochs\n",
        "    \"\"\"\n",
        "    ax.plot(history[loss_Accuracy[2]],  'r', lw=2, label=labels[0])\n",
        "    ax.plot(history[loss_Accuracy[3]], 'b', lw=2, label=labels[1])\n",
        "    ax.set_title('Accuracy curve for NN1\\n')\n",
        "    setLabels(ax, 'Epoch', 'Accuracy (%)', ticks=True)\n",
        "    return"
      ],
      "outputs": [],
      "execution_count": 31,
      "metadata": {
        "collapsed": false,
        "outputHidden": false,
        "inputHidden": false
      }
    },
    {
      "cell_type": "markdown",
      "source": [
        "The loss and accuracy curves are plotted for NN1 for epochs. "
      ],
      "metadata": {}
    },
    {
      "cell_type": "code",
      "source": [
        "# logs the history of the run\n",
        "history = model_history.history\n",
        "\n",
        "# plots the history\n",
        "fig, ax = plt.subplots(1,2, figsize=(14,6))\n",
        "labels = ['training', 'validation']\n",
        "loss_Accuracy = ['loss', 'val_loss', 'acc', 'val_acc']\n",
        "\n",
        "plotLoss(ax[0], loss_Accuracy, labels)\n",
        "plotAccuracy(ax[1], loss_Accuracy, labels)\n",
        " \n",
        "fig.tight_layout()"
      ],
      "outputs": [
        {
          "output_type": "display_data",
          "data": {
            "text/plain": [
              "<Figure size 1008x432 with 2 Axes>"
            ],
            "image/png": "[encoded data removed]"
          },
          "metadata": {
            "needs_background": "light"
          }
        }
      ],
      "execution_count": 32,
      "metadata": {
        "collapsed": false,
        "outputHidden": false,
        "inputHidden": false
      }
    },
    {
      "cell_type": "markdown",
      "source": [
        "## 5. Evaluate the result on the testing data set\n",
        "\n",
        "Once we have trained the model to make predictions on the data, we evaluate it's performance on the test data set."
      ],
      "metadata": {}
    },
    {
      "cell_type": "code",
      "source": [
        "def saveModel(history, save_model_dir):\n",
        "    \"\"\"\n",
        "    Function to save the model and it's history\n",
        "    \"\"\"\n",
        "    model.save(save_model_dir+'.h5')\n",
        "    \n",
        "    with open(save_model_dir+'_history.pkl', 'wb') as filehandler:\n",
        "        pickle.dump(history, filehandler)\n",
        "    print('\\nModel saved')\n",
        "    return"
      ],
      "outputs": [],
      "execution_count": 33,
      "metadata": {
        "collapsed": false,
        "outputHidden": false,
        "inputHidden": false
      }
    },
    {
      "cell_type": "code",
      "source": [
        "# predictions made on the test data set, computes the confusion matrix\n",
        "\n",
        "score = model.evaluate(X_test, Y_test,verbose=2)\n",
        "print('\\nLoss = %.2f percent, Accuracy = %.2f percent'%(score[0]*100, score[1]*100))\n",
        "\n",
        "saveModel(history, save_model_dir)"
      ],
      "outputs": [
        {
          "output_type": "stream",
          "name": "stdout",
          "text": [
            "\n",
            "Loss = 21.52 percent, Accuracy = 94.10 percent\n",
            "\n",
            "Model saved\n"
          ]
        }
      ],
      "execution_count": 40,
      "metadata": {
        "collapsed": false,
        "outputHidden": false,
        "inputHidden": false
      }
    },
    {
      "cell_type": "code",
      "source": [],
      "outputs": [],
      "execution_count": null,
      "metadata": {
        "collapsed": false,
        "outputHidden": false,
        "inputHidden": false
      }
    }
  ],
  "metadata": {
    "kernel_info": {
      "name": "qutip-env"
    },
    "language_info": {
      "name": "python",
      "version": "3.6.7",
      "mimetype": "text/x-python",
      "codemirror_mode": {
        "name": "ipython",
        "version": 3
      },
      "pygments_lexer": "ipython3",
      "nbconvert_exporter": "python",
      "file_extension": ".py"
    },
    "kernelspec": {
      "name": "qutip-env",
      "language": "python",
      "display_name": "Python (qutip-env)"
    },
    "nteract": {
      "version": "0.15.0"
    }
  },
  "nbformat": 4,
  "nbformat_minor": 0
}