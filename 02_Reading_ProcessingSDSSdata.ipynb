{
 "cells": [
  {
   "cell_type": "markdown",
   "metadata": {
    "inputHidden": false,
    "outputHidden": false
   },
   "source": [
    "# SDSS eBOSS Data \n",
    "## Script on reading and pre-processing data, and generation of a catalogue of desirable galaxy types\n",
    "\n",
    "This script extracts useful data from the spPlate and spAll_redrock fits files, and generates the required training data set.\n",
    "\n",
    "1. **Defining input parameters**\n",
    "2. **Reading and pre-processing the data**\n",
    "3. **Applying selection cuts** <br>\n",
    "   3.1 **Selecting common wavelengths**\n",
    "5. **Generating the training data set**\n",
    "\n",
    "**Data**: 14th Oct, 2019. <br>\n",
    "**Author**: Soumya Shreeram <br>\n",
    "**Supervised by**: Anand Raichoor <br>\n",
    "**Script adapted from**: S. Ben Nejma\n"
   ]
  },
  {
   "cell_type": "code",
   "execution_count": 1,
   "metadata": {
    "inputHidden": false,
    "outputHidden": false
   },
   "outputs": [],
   "source": [
    "import astropy.io.fits as fits\n",
    "%matplotlib inline\n",
    "import matplotlib.pyplot as plt\n",
    "plt.rcParams.update({'font.size': 16})\n",
    "import numpy as np\n",
    "from numpy.lib.format import open_memmap\n",
    "import os\n",
    "import subprocess\n",
    "from astropy.convolution import convolve, Box1DKernel"
   ]
  },
  {
   "cell_type": "markdown",
   "metadata": {},
   "source": [
    "## 1. Defining input parameters"
   ]
  },
  {
   "cell_type": "code",
   "execution_count": 2,
   "metadata": {
    "inputHidden": false,
    "outputHidden": false
   },
   "outputs": [],
   "source": [
    "# data directory on lesta with the spAll_redrock files\n",
    "spPlate_dir = r'/hpcstorage/raichoor/spplatelist_v5_13_0/spPlate'\n",
    "spAll_redrock_file = r'/hpcstorage/raichoor/spplatelist_v5_13_0/' \\\n",
    "            'spall_redrock_v5_13_0.valid.fits'\n",
    "\n",
    "# number of plates of ELGs, LRG+QSOs, and Boss plates to select\n",
    "num_pl = 4 \n",
    "\n",
    "# return info about selected fibres?\n",
    "return_infos = True\n",
    "\n",
    "# select corrupted or uncorrunpter samples?\n",
    "uncorrupted = False\n",
    "\n",
    "# minimum - maximum wavelengths considered\n",
    "wmin, wmax = 3700, 10000"
   ]
  },
  {
   "cell_type": "markdown",
   "metadata": {},
   "source": [
    "## 2. Reading the data"
   ]
  },
  {
   "cell_type": "code",
   "execution_count": 3,
   "metadata": {
    "inputHidden": false,
    "outputHidden": false
   },
   "outputs": [],
   "source": [
    "def setName(data_dir, plate_mjd):\n",
    "    file_name = data_dir+'-'+plate_mjd+'.fits'\n",
    "    return file_name\n",
    "\n",
    "def readFile(filename):\n",
    "    \"\"\"\n",
    "    Function opens the file\n",
    "    @input filename :: name of the file\n",
    "    \"\"\"\n",
    "    hdu = fits.open(filename)\n",
    "    data = hdu[1].data\n",
    "    hdu.close()        \n",
    "    return data\n",
    "\n",
    "def plateMJD(data):\n",
    "    # defining the PLATE number, p, and MJD, m for all the files\n",
    "    pms = np.array([str(p)+'-'+ str(m) for p, m in zip(data['PLATE'],\n",
    "data['MJD'])])\n",
    "    return pms\n",
    "\n",
    "def uniquePmsProgramme(pms, data):\n",
    "    # selecting only the unique plates-mjd, and find their programmes\n",
    "    pms_unique, idx = np.unique(pms, return_index=True)\n",
    "    prog_unique = data['programname'][idx]\n",
    "    return pms_unique, prog_unique\n",
    "\n",
    "def applyWaveCuts(w, wmin, wmax):\n",
    "    idx = np.where((w>wmin) & (w<wmax))[0]\n",
    "    return w[idx], idx      \n",
    "\n",
    "def readSpPlate(data_dir, plate_mjd, wmin, wmax):\n",
    "    \"\"\"\n",
    "    Function to read the useful headers and data from spPlate fits file\n",
    "    @param place :: 4-digit plate number\n",
    "    @param mjd :: 5-digit MJD\n",
    "    \n",
    "    @returns wavelength, bunit, flux, ivar (refer comments for individual meanings)\n",
    "    \"\"\"\n",
    "    # opens the file\n",
    "    hdu     = fits.open(setName(data_dir, plate_mjd))        \n",
    "    \n",
    "    c0      = hdu[0].header['coeff0']   # Central wavelength (log10) of first pixel\n",
    "    c1      = hdu[0].header['coeff1']   # Log10 dispersion per pixel\n",
    "    npix    = hdu[0].header['naxis1']   # WIDTH (TOTAL!\n",
    "    wavelength    = 10.**(c0 + c1 * np.arange(npix))\n",
    "    bunit   = hdu[0].header['bunit']    # Units of flux\n",
    "\n",
    "    flux    = hdu[0].data               # Flux in units of 10^-17^ erg/s/cm^2^/Ang\n",
    "    ivar    = hdu[1].data               # Inverse variance (1/sigma^2^) for HDU 0\n",
    "    hdu.close()\n",
    "    \n",
    "    # do cuts on wavelength\n",
    "    if wmin != None:\n",
    "        wavelength, widx = applyWaveCuts(wavelength, wmin, wmax)\n",
    "        \n",
    "    return wavelength, widx, bunit, flux, ivar\n",
    "\n",
    "def writeToFile(pms, outfilename, selected_plates, username):\n",
    "    \"\"\"\n",
    "    Function extracts the info from desired files and writes to a new file\n",
    "    @param pms :: complete array of plate nos. and MJD\n",
    "    @param outfilename :: output file name\n",
    "    @param selected_plates :: array of all the selected plates\n",
    "    \"\"\"    \n",
    "    # extract those plate-mjd files\n",
    "    extract_files = np.in1d(pms, selected_plates)\n",
    "    output = outfilename+username\n",
    "    \n",
    "    # write info to new fits file\n",
    "    hdu[1].data = hdu[1].data[extract_files]\n",
    "    return hdu.writeto(outfilename, overwrite=True)\n",
    "\n",
    "def writeOutputToFile(input_name, shape_arr, in_dtype):\n",
    "    \"\"\"\n",
    "    Write to a .npy file as a memory-mapped array\n",
    "    @param input_name :: array name\n",
    "    @param shape_arr :: shape of the array to be memory-mapped\n",
    "    \n",
    "    @return output_arr :: the memory-mapped array\n",
    "    \"\"\"\n",
    "    filename = 'Data_files/'+input_name+'.npy'\n",
    "    w1 = open_memmap(filename, dtype=in_dtype, mode='w+', shape=shape_arr)\n",
    "    return w1"
   ]
  },
  {
   "cell_type": "code",
   "execution_count": 4,
   "metadata": {
    "inputHidden": false,
    "outputHidden": false
   },
   "outputs": [],
   "source": [
    "# reads the file spAll_redrock and generates arrays of unique plate-MJD and programs\n",
    "data = readFile(spAll_redrock_file)\n",
    "pms = plateMJD(data)"
   ]
  },
  {
   "cell_type": "markdown",
   "metadata": {},
   "source": [
    "## 3. Applying selection cuts\n",
    "\n",
    "The functions below implement various selection cuts to obtain the desired data. They are summarized below:\n",
    "* Select plates that observe **E**mission-**L**ine type **G**alaxies (ELGs), LRGs, and QSOs\n",
    "* Select wavelength that are common to all plates\n",
    "* Removing sky spectra and certain configurations\n",
    "* Select redshift range (Zspec fibres)"
   ]
  },
  {
   "cell_type": "code",
   "execution_count": 5,
   "metadata": {
    "inputHidden": false,
    "outputHidden": false
   },
   "outputs": [],
   "source": [
    "def galaxyType(pms_unique, prog_unique, names, gal_type, num_p):\n",
    "    \"\"\"\n",
    "    Function chooses the file name based of desired galaxy type\n",
    "    @params pms_unique, prog_unique :: unique array of plate nos.-MJD & programmes\n",
    "    @param names :: array of names of the galaxies/programmes to select/de-select\n",
    "    @param gal_type :: string to distinguish the desired operations\n",
    "    @param num_p :: number of plates of each galaxy to select\n",
    "    \n",
    "    @returns sub_plates :: bool indicies of selected plates within pms unique\n",
    "    \"\"\"\n",
    "    if gal_type == 'ELG': # select ELG plates\n",
    "        sub_plates = np.random.choice(pms_unique[(prog_unique==names[0]) | \\\n",
    "                                    (prog_unique==names[1])],size=num_p).tolist()\n",
    "    elif gal_type == 'LRG+QSO': # select LRG+QSO plates\n",
    "         sub_plates = np.random.choice(pms_unique[(prog_unique==names[0]) & \\\n",
    "                                            (prog_unique!=names[1]) & \\\n",
    "                                            (prog_unique!=names[2])],size=num_p).tolist()\n",
    "    else: # select boss plates\n",
    "        sub_plates = np.random.choice(pms_unique[(prog_unique==names[0])],size=num_p).tolist()    \n",
    "    return np.in1d(pms_unique, sub_plates)\n",
    "\n",
    "    \n",
    "def selectPlates(pms_unique, prog_unique, num_pl):\n",
    "    \"\"\"\n",
    "    Function the selects plates containing ELGs, LRG+QSOs, and some random.\n",
    "    @param pms_unique :: arroy of plate nos. and MJDs\n",
    "    @param prog_unique :: list of unique programmes (eBoss/Boss)\n",
    "    @param num_pl :: number of plates of each category to select\n",
    "    \n",
    "    @returns selected_plates :: array of the file names containing desired galaxies\n",
    "    \"\"\"\n",
    "    selected_plates = np.zeros(len(pms_unique), dtype = bool)\n",
    "    \n",
    "    # select <<num_pl>> eboss ELG plates\n",
    "    names_elg = ['ELG_NGC', 'ELG_SGC']\n",
    "    selected_plates |= galaxyType(pms_unique, prog_unique, names_elg, 'ELG', num_pl)\n",
    "    \n",
    "    # select <<num_pl>> eboss LRG+QSO plates\n",
    "    names_lrgQso = ['eboss', 'ELG_NGC', 'ELG_SGC']\n",
    "    selected_plates |= galaxyType(pms_unique, prog_unique, names_lrgQso, 'LRG+QSO', num_pl)\n",
    "    \n",
    "    # select <<num_pl>> random boss plates\n",
    "    names_boss = ['boss']\n",
    "    selected_plates |= galaxyType(pms_unique, prog_unique, names_boss, 'boss plates', num_pl)\n",
    "    \n",
    "    return selected_plates\n",
    "\n",
    "def discardSkySpectra(data):\n",
    "    \"\"\"\n",
    "    Function derfines the conditions for discarding the sky spectra\n",
    "    and some othe factors\n",
    "    \"\"\"\n",
    "    data = data[(data['ZWARN'] == 0) & \\\n",
    "                (data['OBJTYPE'] != 'SKY') & \\\n",
    "                (data['CHI2']/data['NPIXELS'].astype(float) > 0.4) & \\\n",
    "                (data['DELTACHI2']/data['NPIXELS'].astype(float) > 0.0025) &\\\n",
    "                (data['OBJTYPE'] != 'SPECTROPHOTO_STD')] # deletes stars - flux cal.  \n",
    "    return data\n",
    "\n",
    "def selectCommonWaves(pms_unique, spPlate_dir, wmin, wmax):\n",
    "    \"\"\"\n",
    "    Function keeps common wavelengths observed in all files in range [wmin, wmax]\n",
    "    \n",
    "    \"\"\"\n",
    "    npix, delta, wave_indicies = [], [], []\n",
    "    for i, pm in enumerate(pms_unique):\n",
    "        if i == 0:\n",
    "            # wavelength saved from 1st file\n",
    "            w_i, idx_i = readSpPlate(spPlate_dir, pm, wmin, wmax)[0:2]        \n",
    "            npix.append(len(w_i))\n",
    "            delta.append(0)\n",
    "            wave_indicies.append(idx_i)\n",
    "        else:\n",
    "            w, idx = readSpPlate(spPlate_dir, pm, wmin, wmax)[0:2]        \n",
    "            npix.append(len(w))\n",
    "            delta.append(np.unique(np.abs(w-w_i)).max())\n",
    "            # keeping tract of all the opened wavelength indicies\n",
    "            wave_indicies.append(idx[np.where(idx != idx_i)])\n",
    "    return npix, delta, w, wave_indicies"
   ]
  },
  {
   "cell_type": "code",
   "execution_count": 6,
   "metadata": {
    "inputHidden": false,
    "outputHidden": false
   },
   "outputs": [
    {
     "name": "stdout",
     "output_type": "stream",
     "text": [
      "Plate-MJD  | Programme\n",
      "11109-58523  |  eboss\n",
      "11342-58425  |  eboss\n",
      "3686-55268  |  boss\n",
      "5150-56329  |  boss\n",
      "5383-56013  |  boss\n",
      "6012-56101  |  boss\n",
      "7677-57363  |  eboss\n",
      "8524-57656  |  eboss\n",
      "9372-58074  |  ELG_SGC\n",
      "9442-58076  |  ELG_SGC\n",
      "9611-58136  |  ELG_NGC\n"
     ]
    }
   ],
   "source": [
    "# sky spectra and other factors taken out\n",
    "data_i = discardSkySpectra(data)\n",
    "pms_i = plateMJD(data_i)\n",
    "\n",
    "# find unique pms, programmes\n",
    "pms_unique, prog_unique = uniquePmsProgramme(pms_i, data_i)\n",
    "\n",
    "# select plates containing ELGs, LRGs, QSOs, and some boss plates\n",
    "keep = selectPlates(pms_unique, prog_unique, num_pl)\n",
    "pms_unique, prog_unique = pms_unique[keep], prog_unique[keep]\n",
    "\n",
    "# print the selected plates\n",
    "print(\"Plate-MJD  | Programme\")\n",
    "for pm, prog in zip(pms_unique, prog_unique):     \n",
    "    print(pm, \" | \", prog)"
   ]
  },
  {
   "cell_type": "markdown",
   "metadata": {},
   "source": [
    "#### 3.1  Saves common wavelengths"
   ]
  },
  {
   "cell_type": "code",
   "execution_count": 7,
   "metadata": {},
   "outputs": [
    {
     "name": "stdout",
     "output_type": "stream",
     "text": [
      "Total no. of unique wavelengths, ω = 4317.0.      \n",
      "Max. difference in wavelegths between the 11 files Δω = 1.09e-11\n",
      "\n",
      "Shape of wavelength indicies for 11 files: (11,)\n"
     ]
    }
   ],
   "source": [
    "# applies cuts on wavelengths, and stores all the indicies of selected wavelengths\n",
    "npix, delta, wave, wave_indicies = selectCommonWaves(pms_unique, spPlate_dir, wmin, wmax)\n",
    "\n",
    "# print some info        \n",
    "print(\"Total no. of unique wavelengths, ω = %.1f.\\\n",
    "      \\nMax. difference in wavelegths between the %d files Δω = %1.2e\"%(np.unique(npix),len(pms_unique),np.max(delta)))\n",
    "print(\"\\nShape of wavelength indicies for %d files:\"%len(pms_unique), np.shape(wave_indicies))\n",
    "\n",
    "# saves the wavelength in a memory-mapped array\n",
    "w = writeOutputToFile('wavelength', np.shape(wave), 'float32')\n",
    "w[:] = wave\n",
    "del w"
   ]
  },
  {
   "cell_type": "markdown",
   "metadata": {},
   "source": [
    "### 4. Generating the training data sets"
   ]
  },
  {
   "cell_type": "code",
   "execution_count": 26,
   "metadata": {},
   "outputs": [],
   "source": [
    "def listOfFilenamesIDs(data, pms, return_infos, pms_unique):\n",
    "    \"\"\"\n",
    "    Function generates list of filenames and index IDs for selected fibres\n",
    "    @param data :: data from the spAllRedrock fiel\n",
    "    @param pms :: plate no. MJD info array of the spPlate files\n",
    "    \"\"\"\n",
    "    nb_fibres = 0\n",
    "    for i in range(len(pms_unique)):\n",
    "        nb_fibres += len(selectd_fibres[i][:])\n",
    "    shape_info = (nb_fibres,)\n",
    "    \n",
    "    # list of fibre ids for selected files\n",
    "    all_selected_idx = np.array([np.array(data[pms == pl_mjd]['FIBERID']-1) for pl_mjd in pms_unique])\n",
    "    \n",
    "    if return_infos:\n",
    "        info = writeOutputToFile('info', shape_info, '<U30')\n",
    "        # [TODO] need to sort this out  \n",
    "        #info[:,0] = pms_i\n",
    "        # their fibre ids\n",
    "        info[:] = np.array([str(f_id) for selected_ids in all_selected_idx for f_id in selected_ids])\n",
    "        \n",
    "        del info\n",
    "    return all_selected_idx, nb_fibers\n",
    "\n",
    "def fileNameMaps(uncorrupted, nb_fibers, wave_idxs):\n",
    "    if uncorrupted:\n",
    "        x_name = writeOutputToFile('X_corrupted', (nb_fibers, len(wave_idxs)), 'float32')\n",
    "        y_name = writeOutputToFile('Y_corrupted', (nb_fibers,), 'float32')\n",
    "    else:\n",
    "        x_name = writeOutputToFile('X', (nb_fibers, len(wave_idxs)), 'float32')\n",
    "        y_name = writeOutputToFile('Y', (nb_fibers,), 'float32')    \n",
    "    counter = 0\n",
    "    return counter, x_name, y_name"
   ]
  },
  {
   "cell_type": "code",
   "execution_count": 67,
   "metadata": {},
   "outputs": [],
   "source": [
    "# prints list of selected fibres\n",
    "return_infos=True\n",
    "selectd_fibres , nb_fibers = listOfFilenamesIDs(data_i, pms_i, return_infos, pms_unique)\n",
    "\n",
    "# sets name according to nature of samples for: classification vs detection\n",
    "counter, x_name, y_name = fileNameMaps(uncorrupted, nb_fibers, wave_indicies[2][:])"
   ]
  },
  {
   "cell_type": "code",
   "execution_count": null,
   "metadata": {},
   "outputs": [],
   "source": [
    "for i, (pm, fib_ids) in enumerate(pms_unique, selectd_fibres):\n",
    "    # gets the flux\n",
    "    flux = readSpPlate(data_dir, plate_mjd, wmin, wmax)[3]\n",
    "    \n",
    "    X[counter:counter+len(fib_ids)][:] = np.array(flux[:, ])\n",
    "    "
   ]
  },
  {
   "cell_type": "code",
   "execution_count": 72,
   "metadata": {},
   "outputs": [
    {
     "name": "stdout",
     "output_type": "stream",
     "text": [
      "(11, 4317)\n",
      "4317\n"
     ]
    }
   ],
   "source": [
    "print(np.shape(x_name))\n",
    "print(len(wave_indicies[2][:]))"
   ]
  }
 ],
 "metadata": {
  "kernel_info": {
   "name": "python3"
  },
  "kernelspec": {
   "display_name": "Python 3",
   "language": "python",
   "name": "python3"
  },
  "language_info": {
   "codemirror_mode": {
    "name": "ipython",
    "version": 3
   },
   "file_extension": ".py",
   "mimetype": "text/x-python",
   "name": "python",
   "nbconvert_exporter": "python",
   "pygments_lexer": "ipython3",
   "version": "3.6.8"
  },
  "nteract": {
   "version": "0.12.3"
  }
 },
 "nbformat": 4,
 "nbformat_minor": 4
}
