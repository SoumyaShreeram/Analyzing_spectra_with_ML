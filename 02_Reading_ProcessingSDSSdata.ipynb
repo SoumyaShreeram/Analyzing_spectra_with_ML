{
 "cells": [
  {
   "cell_type": "markdown",
   "metadata": {
    "inputHidden": false,
    "outputHidden": false
   },
   "source": [
    "# SDSS eBOSS Data \n",
    "## Script on reading and pre-processing data, and generation of a catalogue of desirable galaxy types\n",
    "\n",
    "This script extracts useful data from the spPlate and spAll_redrock fits files, and generates the required training data set.\n",
    "\n",
    "1. **Defining input parameters**\n",
    "2. **Reading and pre-processing the data**\n",
    "3. **Applying selection cuts** <br>\n",
    "   3.1 **Selecting common wavelengths**\n",
    "5. **Generating the training data set**\n",
    "\n",
    "**Data**: 14th Oct, 2019. <br>\n",
    "**Author**: Soumya Shreeram <br>\n",
    "**Supervised by**: Anand Raichoor <br>\n",
    "**Script adapted from**: S. Ben Nejma\n"
   ]
  },
  {
   "cell_type": "code",
   "execution_count": 34,
   "metadata": {
    "inputHidden": false,
    "outputHidden": false
   },
   "outputs": [],
   "source": [
    "import astropy.io.fits as fits\n",
    "import matplotlib.pyplot as plt\n",
    "import numpy as np\n",
    "from numpy.lib.format import open_memmap\n",
    "import os\n",
    "import subprocess\n",
    "from astropy.convolution import convolve, Box1DKernel"
   ]
  },
  {
   "cell_type": "markdown",
   "metadata": {},
   "source": [
    "## 1. Defining input parameters"
   ]
  },
  {
   "cell_type": "code",
   "execution_count": 121,
   "metadata": {
    "inputHidden": false,
    "outputHidden": false
   },
   "outputs": [],
   "source": [
    "# data directory on lesta with the spAll_redrock files\n",
    "spPlate_dir = r'/hpcstorage/raichoor/spplatelist_v5_13_0/spPlate'\n",
    "spAll_redrock_file = r'/hpcstorage/raichoor/spplatelist_v5_13_0/' \\\n",
    "            'spall_redrock_v5_13_0.valid.fits'\n",
    "\n",
    "# number of plates of ELGs, LRG+QSOs, and Boss plates to select\n",
    "num_pl = 4 \n",
    "\n",
    "# return info about selected fibres?\n",
    "return_infos = True\n",
    "\n",
    "# select corrupted or uncorrunpter samples?\n",
    "uncorrupted = False"
   ]
  },
  {
   "cell_type": "markdown",
   "metadata": {},
   "source": [
    "## 2. Reading the data"
   ]
  },
  {
   "cell_type": "code",
   "execution_count": 116,
   "metadata": {
    "inputHidden": false,
    "outputHidden": false
   },
   "outputs": [],
   "source": [
    "def setName(data_dir, plate_mjd):\n",
    "    file_name = data_dir+'-'+plate_mjd+'.fits'\n",
    "    return file_name\n",
    "\n",
    "def readFile(filename):\n",
    "    \"\"\"\n",
    "    Function opens the file\n",
    "    @input filename :: name of the file\n",
    "    \"\"\"\n",
    "    hdu = fits.open(filename)\n",
    "    data = hdu[1].data\n",
    "    hdu.close()        \n",
    "    return data\n",
    "\n",
    "def plateMJD(data):\n",
    "    # defining the PLATE number, p, and MJD, m for all the files\n",
    "    pms = np.array([str(p)+'-'+ str(m) for p, m in zip(data['PLATE'],\n",
    "data['MJD'])])\n",
    "    return pms\n",
    "\n",
    "def uniquePmsProgramme(pms, data):\n",
    "    # selecting only the unique plates-mjd, and find their programmes\n",
    "    pms_unique, idx = np.unique(pms, return_index=True)\n",
    "    prog_unique = data['programname'][idx]\n",
    "    return pms_unique, prog_unique\n",
    "\n",
    "def readSpPlate(data_dir, plate_mjd):\n",
    "    \"\"\"\n",
    "    Function to read the useful headers and data from spPlate fits file\n",
    "    @param place :: 4-digit plate number\n",
    "    @param mjd :: 5-digit MJD\n",
    "    \n",
    "    @returns wavelength, bunit, flux, ivar (refer comments for individual meanings)\n",
    "    \"\"\"\n",
    "    # opens the file\n",
    "    hdu     = fits.open(setName(data_dir, plate_mjd))        \n",
    "    \n",
    "    c0      = hdu[0].header['coeff0']   # Central wavelength (log10) of first pixel\n",
    "    c1      = hdu[0].header['coeff1']   # Log10 dispersion per pixel\n",
    "    npix    = hdu[0].header['naxis1']   # WIDTH (TOTAL!\n",
    "    wavelength    = 10.**(c0 + c1 * np.arange(npix))\n",
    "    bunit   = hdu[0].header['bunit']    # Units of flux\n",
    "\n",
    "    flux    = hdu[0].data               # Flux in units of 10^-17^ erg/s/cm^2^/Ang\n",
    "    ivar    = hdu[1].data               # Inverse variance (1/sigma^2^) for HDU 0\n",
    "    hdu.close()\n",
    "    return wavelength, bunit, flux, ivar\n",
    "\n",
    "def writeToFile(pms, outfilename, selected_plates, username):\n",
    "    \"\"\"\n",
    "    Function extracts the info from desired files and writes to a new file\n",
    "    @param pms :: complete array of plate nos. and MJD\n",
    "    @param outfilename :: output file name\n",
    "    @param selected_plates :: array of all the selected plates\n",
    "    \"\"\"    \n",
    "    # extract those plate-mjd files\n",
    "    extract_files = np.in1d(pms, selected_plates)\n",
    "    output = outfilename+username\n",
    "    \n",
    "    # write info to new fits file\n",
    "    hdu[1].data = hdu[1].data[extract_files]\n",
    "    return hdu.writeto(outfilename, overwrite=True)\n",
    "\n",
    "def writeOutputToFile(input_name, shape_arr, in_dtype):\n",
    "    \"\"\"\n",
    "    Write to a .npy file as a memory-mapped array\n",
    "    @param input_name :: array name\n",
    "    @param shape_arr :: shape of the array to be memory-mapped\n",
    "    \n",
    "    @return output_arr :: the memory-mapped array\n",
    "    \"\"\"\n",
    "    filename = 'Data_files/'+input_name+'.npy'\n",
    "    w1 = open_memmap(filename, dtype=in_dtype, \\\n",
    "                      mode='w+', shape=shape_arr)\n",
    "    return w1"
   ]
  },
  {
   "cell_type": "code",
   "execution_count": 37,
   "metadata": {
    "inputHidden": false,
    "outputHidden": false
   },
   "outputs": [],
   "source": [
    "# reads the file spAll_redrock and generates arrays of unique plate-MJD and programs\n",
    "data = readFile(spAll_redrock_file)\n",
    "pms = plateMJD(data)"
   ]
  },
  {
   "cell_type": "markdown",
   "metadata": {},
   "source": [
    "## 3. Applying selection cuts\n",
    "\n",
    "The functions below implement various selection cuts to obtain the desired data. They are summarized below:\n",
    "* Select plates that observe **E**mission-**L**ine type **G**alaxies (ELGs), LRGs, and QSOs\n",
    "* Select wavelength that are common to all plates\n",
    "* Removing sky spectra and certain configurations\n",
    "* Select redshift range (Zspec fibres)"
   ]
  },
  {
   "cell_type": "code",
   "execution_count": 88,
   "metadata": {
    "inputHidden": false,
    "outputHidden": false
   },
   "outputs": [],
   "source": [
    "def galaxyType(pms_unique, prog_unique, names, gal_type, num_p):\n",
    "    \"\"\"\n",
    "    Function chooses the file name based of desired galaxy type\n",
    "    @params pms_unique, prog_unique :: unique array of plate nos.-MJD & programmes\n",
    "    @param names :: array of names of the galaxies/programmes to select/de-select\n",
    "    @param gal_type :: string to distinguish the desired operations\n",
    "    @param num_p :: number of plates of each galaxy to select\n",
    "    \n",
    "    @returns sub_plates :: array names of selected plates \n",
    "    \"\"\"\n",
    "    if gal_type == 'ELG': # select ELG plates\n",
    "        sub_plates = np.random.choice(pms_unique[(prog_unique==names[0]) | \\\n",
    "                                    (prog_unique==names[1])],size=num_p).tolist()\n",
    "    elif gal_type == 'LRG+QSO': # select LRG+QSO plates\n",
    "         sub_plates = np.random.choice(pms_unique[(prog_unique==names[0]) & \\\n",
    "                                            (prog_unique!=names[1]) & \\\n",
    "                                            (prog_unique!=names[2])],size=num_p).tolist()\n",
    "    else: # select boss plates\n",
    "        sub_plates = np.random.choice(pms_unique[(prog_unique==names[0])],size=num_p).tolist()\n",
    "    return sub_plates\n",
    " \n",
    "def selectPlates(pms_unique, prog_unique, num_pl):\n",
    "    \"\"\"\n",
    "    Function the selects plates containing ELGs, LRG+QSOs, and some random.\n",
    "    @param pms_unique :: arroy of plate nos. and MJDs\n",
    "    @param prog_unique :: list of unique programmes (eBoss/Boss)\n",
    "    @param num_pl :: number of plates of each category to select\n",
    "    \n",
    "    @returns selected_plates :: array of the file names containing desired galaxies\n",
    "    \"\"\"\n",
    "    selected_plates = []\n",
    "    \n",
    "    # select <<num_pl>> eboss ELG plates\n",
    "    names_elg = ['ELG_NGC', 'ELG_SGC']\n",
    "    selected_plates += galaxyType(pms_unique, prog_unique, names_elg, 'ELG', num_pl)\n",
    "    \n",
    "    # select <<num_pl>> eboss LRG+QSO plates\n",
    "    names_lrgQso = ['eboss', 'ELG_NGC', 'ELG_SGC']\n",
    "    selected_plates += galaxyType(pms_unique, prog_unique, names_lrgQso, 'LRG+QSO', num_pl)\n",
    "    \n",
    "    # select <<num_pl>> random boss plates\n",
    "    names_boss = ['boss']\n",
    "    selected_plates += galaxyType(pms_unique, prog_unique, names_boss, 'boss plates', num_pl)\n",
    "    \n",
    "    return selected_plates\n",
    "\n",
    "def discardSkySpectra(data):\n",
    "    \"\"\"\n",
    "    Function derfines the conditions for discarding the sky spectra\n",
    "    and some othe factors\n",
    "    \"\"\"\n",
    "    data = data[(data['ZWARN'] == 0) & \\\n",
    "                (data['OBJTYPE'] != 'SKY') & \\\n",
    "                (data['CHI2']/data['NPIXELS'].astype(float) > 0.4) & \\\n",
    "                (data['DELTACHI2']/data['NPIXELS'].astype(float) > 0.0025)]\n",
    "    return data\n",
    "\n",
    "def selectInitialWaves(pms_unique, spPlate_dir, wavelength_idx, pm):\n",
    "    \"\"\"\n",
    "    Function selects the wavelengths and indicies in the first file\n",
    "    @param pms_unique :: unique array of plate nos. and MJD\n",
    "    @param spPlate_dir :: directory of sp plate files\n",
    "    @param wavelength_idx :: array of all wavelength\n",
    "    @param pm :: iterating variables (plate, MJD nos.)\n",
    "    \n",
    "    @returns waves_initial, wavelength_idx :: the waves and indicies\n",
    "    \"\"\"\n",
    "         \n",
    "    wavelength = readSpPlate(spPlate_dir, pm)[0]        \n",
    "\n",
    "    waves_initial = wavelength\n",
    "    wavelength_idx.append(np.arange(len(waves_initial)))\n",
    "    return waves_initial, wavelength_idx\n",
    "\n",
    "def selectCommonWaves(pms_unique, spPlate_dir, wavelength_idx, idx, pm,\\\n",
    "                      waves_initial):\n",
    "    \"\"\"\n",
    "    Function selects the common wavelengths in all files wrt the first file\n",
    "    @param pms_unique :: unique array of plate nos. and MJD\n",
    "    @param spPlate_dir :: directory of sp plate files\n",
    "    @param wavelength_idx :: array of all wavelength\n",
    "    @param idx, pm :: iterating variables\n",
    "    @param waves_initial :: wavelength from the 1st spPlate file\n",
    "    \n",
    "    @returns wavelength, wavelength_idx :: the intersected waves and indicies\n",
    "    \"\"\"\n",
    "    wavelength = readSpPlate(spPlate_dir, pm)[0] \n",
    "    \n",
    "    # intersect the wavelengths common to the 1st (initial) array \n",
    "    _, idx0, idx1 = np.intersect1d(waves_initial, wavelength, \\\n",
    "                                              return_indices=True)\n",
    "    # redefine+add the common indicies for every file wrt the 1st wavelength index array\n",
    "    wavelength_idx = [w[idx0] for w in wavelength_idx]\n",
    "    wavelength_idx.append(idx1)\n",
    "\n",
    "    # new wave array updated wrt common elements of the 1st wave array\n",
    "    waves_initial = waves_initial[idx0]\n",
    "\n",
    "    return waves_initial, wavelength_idx"
   ]
  },
  {
   "cell_type": "code",
   "execution_count": 124,
   "metadata": {
    "inputHidden": false,
    "outputHidden": false
   },
   "outputs": [],
   "source": [
    "# sky spectra and other factors taken out\n",
    "data_i = discardSkySpectra(data)\n",
    "pms_i = plateMJD(data_i)\n",
    "\n",
    "# find unique pms, programmes\n",
    "pms_unique, prog_unique = uniquePmsProgramme(pms_i, data_i)\n",
    "\n",
    "# select plates containing ELGs, LRGs, QSOs, and some boss plates\n",
    "selected_plates = selectPlates(pms_unique, prog_unique, num_pl)"
   ]
  },
  {
   "cell_type": "markdown",
   "metadata": {},
   "source": [
    "#### 3.1  Saves common wavelengths"
   ]
  },
  {
   "cell_type": "code",
   "execution_count": 117,
   "metadata": {},
   "outputs": [],
   "source": [
    "# wavelengths generated\n",
    "wavelength_idx = [] \n",
    "\n",
    "for i, pm in enumerate(pms_unique):\n",
    "    if i == 0:\n",
    "        # wavelength saved from 1st file\n",
    "        wave0, wavelen_idx0 = selectInitialWaves(pms_unique, spPlate_dir, \\\n",
    "                                                wavelength_idx, pm)\n",
    "        \n",
    "    else:\n",
    "        # common wavelengths from the other spPlates files\n",
    "        wavelen, wavelen_idx = selectCommonWaves(pms_unique, spPlate_dir, \\\n",
    "                                                 wavelen_idx0, i, pm, wave0)\n",
    "wavelen_idx = np.array(wavelen_idx)\n",
    "\n",
    "# saves the wavelength in a memory-mapped array\n",
    "wave = writeOutputToFile('wavelength', np.shape(wavelen), 'float32')\n",
    "wave[:] = wavelen\n",
    "del wave"
   ]
  },
  {
   "cell_type": "markdown",
   "metadata": {},
   "source": [
    "### 4. Generating the training data sets"
   ]
  },
  {
   "cell_type": "code",
   "execution_count": 138,
   "metadata": {},
   "outputs": [],
   "source": [
    "def listOfFilenamesIDs(data, pms, return_infos, pmu):\n",
    "    \"\"\"\n",
    "    Function generates list of filenames and index IDs for selected fibres\n",
    "    @param data :: data from the spAllRedrock fiel\n",
    "    @param pms :: plate no. MJD info array of the spPlate files\n",
    "    \"\"\"\n",
    "    data_files = np.array([str(x)+'-'+str(y) for x, y\n",
    "                           in zip(data['PLATE'], data['MJD'])])\n",
    "    nb_fibers = len(pms)\n",
    "    shape_info = (nb_fibers, 2)\n",
    "    selectd_fibres = np.array([np.array(data[data_files == filename]['FIBERID']-1) \\\n",
    "                               for filename in pmu])\n",
    "    \n",
    "    if return_infos:\n",
    "        info = writeOutputToFile('info', shape_info, '<U30')\n",
    "        info[:,0] = data_files\n",
    "        info[:,1] = np.array([str(fibre_id) for selectd_ids in selectd_fibres for fibre_id in selectd_ids])\n",
    "        print(len(np.unique(info[:, 0])))\n",
    "        del info\n",
    "    return selectd_fibres, nb_fibers\n",
    "\n",
    "def fileNameMaps(uncorrupted, nb_fibers, wave_idxs):\n",
    "    if uncorrupted:\n",
    "        x_name = writeOutputToFile('X_corrupted', (nb_fibers, wave_idxs[1]), 'float32')\n",
    "        y_name = writeOutputToFile('Y_corrupted', (nb_fibers,), 'float32')\n",
    "    else:\n",
    "        x_name = writeOutputToFile('X', (nb_fibers, wave_idxs[1]), 'float32')\n",
    "        y_name = writeOutputToFile('Y', (nb_fibers,), 'float32')    \n",
    "    counter = 0\n",
    "    return counter, x_name, y_name"
   ]
  },
  {
   "cell_type": "code",
   "execution_count": null,
   "metadata": {},
   "outputs": [],
   "source": [
    "# prints list of selected fibres\n",
    "selectd_fibres, nb_fibers = listOfFilenamesIDs(data_i, pms_i, return_infos, pms_unique)\n",
    "\n",
    "# sets name according to nature of samples for: classification vs detection\n",
    "counter, x_name, y_name = fileNameMaps(uncorrupted, nb_fibers, wavelen_idx)"
   ]
  },
  {
   "cell_type": "code",
   "execution_count": 112,
   "metadata": {},
   "outputs": [],
   "source": []
  },
  {
   "cell_type": "code",
   "execution_count": null,
   "metadata": {},
   "outputs": [],
   "source": []
  },
  {
   "cell_type": "code",
   "execution_count": null,
   "metadata": {},
   "outputs": [],
   "source": []
  }
 ],
 "metadata": {
  "kernel_info": {
   "name": "python3"
  },
  "kernelspec": {
   "display_name": "Python 3",
   "language": "python",
   "name": "python3"
  },
  "language_info": {
   "codemirror_mode": {
    "name": "ipython",
    "version": 3
   },
   "file_extension": ".py",
   "mimetype": "text/x-python",
   "name": "python",
   "nbconvert_exporter": "python",
   "pygments_lexer": "ipython3",
   "version": "3.6.8"
  },
  "nteract": {
   "version": "0.12.3"
  }
 },
 "nbformat": 4,
 "nbformat_minor": 4
}
