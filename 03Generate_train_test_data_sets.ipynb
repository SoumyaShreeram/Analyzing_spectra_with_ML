{
  "cells": [
    {
      "cell_type": "markdown",
      "source": [
        "# Script for generating the training and testing data sets for desirable galaxy types\n",
        "\n",
        "The script follows after script **02_Reading_ProcessingSDSSdata.ipynb** and uses the data files generated there. It can be run locally on your computer after obtaining the data sets remotely from *lesta*.\n",
        "\n",
        "**Data**: 11th Nov, 2019 <br>\n",
        "**Author**: Soumya Shreeram <br>\n",
        "**Guidance form**:Anand Raichoor <br>\n",
        "**Script motivated from:** S. Ben Nejma\n"
      ],
      "metadata": {
        "collapsed": false,
        "outputHidden": false,
        "inputHidden": false
      }
    },
    {
      "cell_type": "code",
      "source": [
        "import astropy.io.fits as fits\n",
        "%matplotlib inline\n",
        "import matplotlib.pyplot as plt\n",
        "plt.rcParams.update({'font.size': 20})\n",
        "import numpy as np\n",
        "from numpy.lib.format import open_memmap\n",
        "import os, sys\n",
        "import subprocess\n",
        "from astropy.convolution import convolve, Box1DKernel\n",
        "import random"
      ],
      "outputs": [],
      "execution_count": 2,
      "metadata": {}
    },
    {
      "cell_type": "markdown",
      "source": [
        "## 1. Defining the input parameters"
      ],
      "metadata": {}
    },
    {
      "cell_type": "code",
      "source": [
        "# setting the right path for the directory with the data\n",
        "current_dir = os.getcwd()\n",
        "root_dir = os.path.abspath(os.path.join(current_dir, os.pardir))\n",
        "data_dir = os.path.join(root_dir, \"Data_files\\\\\")\n",
        "\n",
        "# ratio with which the data is separated for training and testing\n",
        "ratio = 0.7"
      ],
      "outputs": [],
      "execution_count": 3,
      "metadata": {
        "collapsed": false,
        "outputHidden": false,
        "inputHidden": false
      }
    },
    {
      "cell_type": "code",
      "source": [
        "def setName(data_dir, filename):\n",
        "    filename = filename+'.npy'\n",
        "    return os.path.join(data_dir, filename)\n",
        "\n",
        "def writeOutputToFile(input_name, data_dir, shape_arr, in_dtype):\n",
        "    \"\"\"\n",
        "    Write to a .npy file as a memory-mapped array\n",
        "    @param input_name :: array name\n",
        "    @param shape_arr :: shape of the array to be memory-mapped\n",
        "    \n",
        "    @return output_arr :: the memory-mapped array\n",
        "    \"\"\"\n",
        "    filename = input_name+'.npy'\n",
        "    filename = os.path.join(data_dir, filename)\n",
        "    w1 = open_memmap(filename, dtype=in_dtype, mode='w+', shape=shape_arr)\n",
        "    return w1"
      ],
      "outputs": [],
      "execution_count": 22,
      "metadata": {
        "collapsed": false,
        "outputHidden": false,
        "inputHidden": false
      }
    },
    {
      "cell_type": "markdown",
      "source": [
        "\n## 2. Preparation of training and testing data sets"
      ],
      "metadata": {}
    },
    {
      "cell_type": "code",
      "source": [
        "def trainIndicies(Y, ratio):\n",
        "    # lists of the different labels, and aranging indicies\n",
        "    categories = np.unique(Y).astype(int)\n",
        "    indicies = np.arange(len(Y))\n",
        "\n",
        "    # minimum no. of samples to choose/catergory\n",
        "    min_samples = np.array([int(ratio*len(Y[Y == i])) for i in categories])\n",
        "\n",
        "    #  list of indicies for every target type, and shuffling them at random\n",
        "    category_indicies = [indicies[Y == i] for i in categories]\n",
        "    for i in categories:\n",
        "        random.shuffle(category_indicies[i])\n",
        "\n",
        "    # indexes to use for training    \n",
        "    indexes_train_interm = [category_indicies[i][:min_samples[i]]\n",
        "                                for i in categories]\n",
        "    indexes_train = np.array([idx for categories in indexes_train_interm\n",
        "                              for idx in categories])\n",
        "    return indexes_train, np.sum(min_samples)\n",
        "\n",
        "def generateTrainTestFiles(len_train, X, data_dir):\n",
        "    \"\"\"\n",
        "    Function to generate empty memory-mapped files for training and testing data sets\n",
        "    \"\"\"\n",
        "    X_train = writeOutputToFile('X_train', data_dir, (len_train, X.shape[1]), 'float32')\n",
        "    Y_train = writeOutputToFile('Y_train', data_dir, (len_train,), 'uint8')\n",
        "    \n",
        "    X_test =  writeOutputToFile('X_test', data_dir, (X.shape[0]-len_train, X.shape[1]), 'float32')\n",
        "    Y_test = writeOutputToFile('Y_train', data_dir, (X.shape[0]-len_train,), 'uint8')\n",
        "    return X_train, Y_train, X_test, Y_test"
      ],
      "outputs": [],
      "execution_count": 23,
      "metadata": {
        "collapsed": false,
        "outputHidden": false,
        "inputHidden": false
      }
    },
    {
      "cell_type": "code",
      "source": [
        "# loading the (X, Y) == (flux, target-types)data sets\n",
        "X = np.load('Data_files/X_corrupted.npy', mmap_mode='r')\n",
        "Y = np.load('Data_files/Y_corrupted.npy', mmap_mode='r')\n",
        "\n",
        "# generate the indicies to train rather than samples, to reduce computational cost\n",
        "indexes_train, len_train = trainIndicies(Y, ratio)"
      ],
      "outputs": [],
      "execution_count": 7,
      "metadata": {
        "collapsed": false,
        "outputHidden": false,
        "inputHidden": false
      }
    },
    {
      "cell_type": "code",
      "source": [
        "# create memory-mapped array for the (X, Y) training sets\n",
        "X_train, Y_train, X_test, Y_test = generateTrainTestFiles(len_train, X, data_dir)\n"
      ],
      "outputs": [
        {
          "output_type": "error",
          "ename": "FileNotFoundError",
          "evalue": "[Errno 2] No such file or directory: 'C:\\\\Users\\\\1199\\\\Desktop\\\\Year 1, Sem 1\\\\TPVIa\\\\Data_files\\\\X_train.npy'",
          "traceback": [
            "\u001b[1;31m---------------------------------------------------------------------------\u001b[0m",
            "\u001b[1;31mFileNotFoundError\u001b[0m                         Traceback (most recent call last)",
            "\u001b[1;32m<ipython-input-24-f88bb483cb68>\u001b[0m in \u001b[0;36m<module>\u001b[1;34m\u001b[0m\n\u001b[0;32m      1\u001b[0m \u001b[1;31m# create memory-mapped array for the (X, Y) training sets\u001b[0m\u001b[1;33m\u001b[0m\u001b[1;33m\u001b[0m\u001b[0m\n\u001b[1;32m----> 2\u001b[1;33m \u001b[0mX_train\u001b[0m\u001b[1;33m,\u001b[0m \u001b[0mY_train\u001b[0m\u001b[1;33m,\u001b[0m \u001b[0mX_test\u001b[0m\u001b[1;33m,\u001b[0m \u001b[0mY_test\u001b[0m \u001b[1;33m=\u001b[0m \u001b[0mgenerateTrainTestFiles\u001b[0m\u001b[1;33m(\u001b[0m\u001b[0mlen_train\u001b[0m\u001b[1;33m,\u001b[0m \u001b[0mX\u001b[0m\u001b[1;33m,\u001b[0m \u001b[0mdata_dir\u001b[0m\u001b[1;33m)\u001b[0m\u001b[1;33m\u001b[0m\u001b[0m\n\u001b[0m",
            "\u001b[1;32m<ipython-input-23-c6018b672cf9>\u001b[0m in \u001b[0;36mgenerateTrainTestFiles\u001b[1;34m(len_train, X, data_dir)\u001b[0m\n\u001b[0;32m     23\u001b[0m     \u001b[0mFunction\u001b[0m \u001b[0mto\u001b[0m \u001b[0mgenerate\u001b[0m \u001b[0mempty\u001b[0m \u001b[0mmemory\u001b[0m\u001b[1;33m-\u001b[0m\u001b[0mmapped\u001b[0m \u001b[0mfiles\u001b[0m \u001b[1;32mfor\u001b[0m \u001b[0mtraining\u001b[0m \u001b[1;32mand\u001b[0m \u001b[0mtesting\u001b[0m \u001b[0mdata\u001b[0m \u001b[0msets\u001b[0m\u001b[1;33m\u001b[0m\u001b[0m\n\u001b[0;32m     24\u001b[0m     \"\"\"\n\u001b[1;32m---> 25\u001b[1;33m     \u001b[0mX_train\u001b[0m \u001b[1;33m=\u001b[0m \u001b[0mwriteOutputToFile\u001b[0m\u001b[1;33m(\u001b[0m\u001b[1;34m'X_train'\u001b[0m\u001b[1;33m,\u001b[0m \u001b[0mdata_dir\u001b[0m\u001b[1;33m,\u001b[0m \u001b[1;33m(\u001b[0m\u001b[0mlen_train\u001b[0m\u001b[1;33m,\u001b[0m \u001b[0mX\u001b[0m\u001b[1;33m.\u001b[0m\u001b[0mshape\u001b[0m\u001b[1;33m[\u001b[0m\u001b[1;36m1\u001b[0m\u001b[1;33m]\u001b[0m\u001b[1;33m)\u001b[0m\u001b[1;33m,\u001b[0m \u001b[1;34m'float32'\u001b[0m\u001b[1;33m)\u001b[0m\u001b[1;33m\u001b[0m\u001b[0m\n\u001b[0m\u001b[0;32m     26\u001b[0m     \u001b[0mY_train\u001b[0m \u001b[1;33m=\u001b[0m \u001b[0mwriteOutputToFile\u001b[0m\u001b[1;33m(\u001b[0m\u001b[1;34m'Y_train'\u001b[0m\u001b[1;33m,\u001b[0m \u001b[0mdata_dir\u001b[0m\u001b[1;33m,\u001b[0m \u001b[1;33m(\u001b[0m\u001b[0mlen_train\u001b[0m\u001b[1;33m,\u001b[0m\u001b[1;33m)\u001b[0m\u001b[1;33m,\u001b[0m \u001b[1;34m'uint8'\u001b[0m\u001b[1;33m)\u001b[0m\u001b[1;33m\u001b[0m\u001b[0m\n\u001b[0;32m     27\u001b[0m \u001b[1;33m\u001b[0m\u001b[0m\n",
            "\u001b[1;32m<ipython-input-22-a321a4ff0399>\u001b[0m in \u001b[0;36mwriteOutputToFile\u001b[1;34m(input_name, data_dir, shape_arr, in_dtype)\u001b[0m\n\u001b[0;32m     13\u001b[0m     \u001b[0mfilename\u001b[0m \u001b[1;33m=\u001b[0m \u001b[0minput_name\u001b[0m\u001b[1;33m+\u001b[0m\u001b[1;34m'.npy'\u001b[0m\u001b[1;33m\u001b[0m\u001b[0m\n\u001b[0;32m     14\u001b[0m     \u001b[0mfilename\u001b[0m \u001b[1;33m=\u001b[0m \u001b[0mos\u001b[0m\u001b[1;33m.\u001b[0m\u001b[0mpath\u001b[0m\u001b[1;33m.\u001b[0m\u001b[0mjoin\u001b[0m\u001b[1;33m(\u001b[0m\u001b[0mdata_dir\u001b[0m\u001b[1;33m,\u001b[0m \u001b[0mfilename\u001b[0m\u001b[1;33m)\u001b[0m\u001b[1;33m\u001b[0m\u001b[0m\n\u001b[1;32m---> 15\u001b[1;33m     \u001b[0mw1\u001b[0m \u001b[1;33m=\u001b[0m \u001b[0mopen_memmap\u001b[0m\u001b[1;33m(\u001b[0m\u001b[0mfilename\u001b[0m\u001b[1;33m,\u001b[0m \u001b[0mdtype\u001b[0m\u001b[1;33m=\u001b[0m\u001b[0min_dtype\u001b[0m\u001b[1;33m,\u001b[0m \u001b[0mmode\u001b[0m\u001b[1;33m=\u001b[0m\u001b[1;34m'w+'\u001b[0m\u001b[1;33m,\u001b[0m \u001b[0mshape\u001b[0m\u001b[1;33m=\u001b[0m\u001b[0mshape_arr\u001b[0m\u001b[1;33m)\u001b[0m\u001b[1;33m\u001b[0m\u001b[0m\n\u001b[0m\u001b[0;32m     16\u001b[0m     \u001b[1;32mreturn\u001b[0m \u001b[0mw1\u001b[0m\u001b[1;33m\u001b[0m\u001b[0m\n",
            "\u001b[1;32m~\\AppData\\Local\\Programs\\Python\\Python37-32\\lib\\site-packages\\numpy\\lib\\format.py\u001b[0m in \u001b[0;36mopen_memmap\u001b[1;34m(filename, mode, dtype, shape, fortran_order, version)\u001b[0m\n\u001b[0;32m    815\u001b[0m         )\n\u001b[0;32m    816\u001b[0m         \u001b[1;31m# If we got here, then it should be safe to create the file.\u001b[0m\u001b[1;33m\u001b[0m\u001b[1;33m\u001b[0m\u001b[0m\n\u001b[1;32m--> 817\u001b[1;33m         \u001b[0mfp\u001b[0m \u001b[1;33m=\u001b[0m \u001b[0mopen\u001b[0m\u001b[1;33m(\u001b[0m\u001b[0mos_fspath\u001b[0m\u001b[1;33m(\u001b[0m\u001b[0mfilename\u001b[0m\u001b[1;33m)\u001b[0m\u001b[1;33m,\u001b[0m \u001b[0mmode\u001b[0m\u001b[1;33m+\u001b[0m\u001b[1;34m'b'\u001b[0m\u001b[1;33m)\u001b[0m\u001b[1;33m\u001b[0m\u001b[0m\n\u001b[0m\u001b[0;32m    818\u001b[0m         \u001b[1;32mtry\u001b[0m\u001b[1;33m:\u001b[0m\u001b[1;33m\u001b[0m\u001b[0m\n\u001b[0;32m    819\u001b[0m             \u001b[0mused_ver\u001b[0m \u001b[1;33m=\u001b[0m \u001b[0m_write_array_header\u001b[0m\u001b[1;33m(\u001b[0m\u001b[0mfp\u001b[0m\u001b[1;33m,\u001b[0m \u001b[0md\u001b[0m\u001b[1;33m,\u001b[0m \u001b[0mversion\u001b[0m\u001b[1;33m)\u001b[0m\u001b[1;33m\u001b[0m\u001b[0m\n",
            "\u001b[1;31mFileNotFoundError\u001b[0m: [Errno 2] No such file or directory: 'C:\\\\Users\\\\1199\\\\Desktop\\\\Year 1, Sem 1\\\\TPVIa\\\\Data_files\\\\X_train.npy'"
          ]
        }
      ],
      "execution_count": 24,
      "metadata": {
        "collapsed": false,
        "outputHidden": false,
        "inputHidden": false
      }
    },
    {
      "cell_type": "code",
      "source": [],
      "outputs": [
        {
          "output_type": "execute_result",
          "execution_count": 19,
          "data": {
            "text/plain": [
              "'C:\\\\Users\\\\1199\\\\Desktop\\\\Year 1, Sem 1\\\\TPVIa\\\\Data_files\\\\filename.npy'"
            ]
          },
          "metadata": {}
        }
      ],
      "execution_count": 19,
      "metadata": {
        "collapsed": false,
        "outputHidden": false,
        "inputHidden": false
      }
    },
    {
      "cell_type": "code",
      "source": [],
      "outputs": [],
      "execution_count": null,
      "metadata": {
        "collapsed": false,
        "outputHidden": false,
        "inputHidden": false
      }
    }
  ],
  "metadata": {
    "kernel_info": {
      "name": "python3"
    },
    "language_info": {
      "name": "python",
      "version": "3.7.0",
      "mimetype": "text/x-python",
      "codemirror_mode": {
        "name": "ipython",
        "version": 3
      },
      "pygments_lexer": "ipython3",
      "nbconvert_exporter": "python",
      "file_extension": ".py"
    },
    "kernelspec": {
      "name": "python3",
      "language": "python",
      "display_name": "Python 3"
    },
    "nteract": {
      "version": "0.12.3"
    }
  },
  "nbformat": 4,
  "nbformat_minor": 4
}