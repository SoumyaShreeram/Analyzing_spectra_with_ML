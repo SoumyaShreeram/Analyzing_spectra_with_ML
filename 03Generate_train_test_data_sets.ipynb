{
  "cells": [
    {
      "cell_type": "markdown",
      "source": [
        "# Script for generating the training and testing data sets for desirable galaxy types\n",
        "\n",
        "The script follows after **02. Reading and Processing SDSS data.ipynb (in short; 02)** and uses the data files generated in that notebook. The current script can be run locally on the computer after obtaining the data sets remotely from **02** *lesta*.\n",
        "\n",
        "**Data**: 11th Nov, 2019 <br>\n",
        "**Author**: Soumya Shreeram <br>\n",
        "**Guidance from**: Anand Raichoor <br>\n",
        "**Script adapted from:** S. Ben Nejma\n"
      ],
      "metadata": {
        "collapsed": false,
        "outputHidden": false,
        "inputHidden": false
      }
    },
    {
      "cell_type": "code",
      "source": [
        "import astropy.io.fits as fits\n",
        "%matplotlib inline\n",
        "import matplotlib.pyplot as plt\n",
        "plt.rcParams.update({'font.size': 20})\n",
        "import numpy as np\n",
        "from numpy.lib.format import open_memmap\n",
        "import os, sys\n",
        "import subprocess\n",
        "from astropy.convolution import convolve, Box1DKernel\n",
        "import random"
      ],
      "outputs": [],
      "execution_count": null,
      "metadata": {}
    },
    {
      "cell_type": "markdown",
      "source": [
        "## 1. Defining the input parameters"
      ],
      "metadata": {}
    },
    {
      "cell_type": "code",
      "source": [
        "# setting the right path for the directory with the data\n",
        "current_dir = os.getcwd()\n",
        "root_dir = os.path.abspath(os.path.join(current_dir, os.pardir))\n",
        "data_dir = os.path.join(root_dir, \"Data_files\\\\\")\n",
        "\n",
        "# ratio with which the data is separated for training and testing\n",
        "ratio = 0.7"
      ],
      "outputs": [],
      "execution_count": null,
      "metadata": {
        "collapsed": false,
        "outputHidden": false,
        "inputHidden": false
      }
    },
    {
      "cell_type": "code",
      "source": [
        "def setName(data_dir, filename):\n",
        "    filename = filename+'.npy'\n",
        "    return os.path.join(data_dir, filename)\n",
        "\n",
        "def writeOutputToFile(input_name, data_dir, shape_arr, in_dtype):\n",
        "    \"\"\"\n",
        "    Write to a .npy file as a memory-mapped array\n",
        "    @param input_name :: array name\n",
        "    @param shape_arr :: shape of the array to be memory-mapped\n",
        "    \n",
        "    @return output_arr :: the memory-mapped array\n",
        "    \"\"\"\n",
        "    filename = input_name+'.npy'\n",
        "    filename = os.path.join(data_dir, filename)\n",
        "    w1 = open_memmap(filename, dtype=in_dtype, mode='w+', shape=shape_arr)\n",
        "    return w1"
      ],
      "outputs": [],
      "execution_count": null,
      "metadata": {
        "collapsed": false,
        "outputHidden": false,
        "inputHidden": false
      }
    },
    {
      "cell_type": "markdown",
      "source": [
        "\n## 2. Preparation of training and testing data sets"
      ],
      "metadata": {}
    },
    {
      "cell_type": "code",
      "source": [
        "def trainIndicies(Y, ratio):\n",
        "    # lists of the different labels, and aranging indicies\n",
        "    categories = np.unique(Y).astype(int)\n",
        "    indicies = np.arange(len(Y))\n",
        "\n",
        "    # minimum no. of samples to choose/catergory\n",
        "    min_samples = np.array([int(ratio*len(Y[Y == i])) for i in categories])\n",
        "\n",
        "    #  list of indicies for every target type, and shuffling them at random\n",
        "    category_indicies = [indicies[Y == i] for i in categories]\n",
        "    for i in categories:\n",
        "        random.shuffle(category_indicies[i])\n",
        "\n",
        "    # indexes to use for training    \n",
        "    indexes_train_interm = [category_indicies[i][:min_samples[i]]\n",
        "                                for i in categories]\n",
        "    indexes_train = np.array([idx for categories in indexes_train_interm\n",
        "                              for idx in categories])\n",
        "    return indexes_train, np.sum(min_samples)\n",
        "\n",
        "def generateTrainTestFiles(len_train, X, data_dir):\n",
        "    \"\"\"\n",
        "    Function to generate empty memory-mapped files for training and testing data sets\n",
        "    \"\"\"\n",
        "    X_train = writeOutputToFile('X_train', data_dir, (len_train, X.shape[1]), 'float32')\n",
        "    Y_train = writeOutputToFile('Y_train', data_dir, (len_train,), 'uint8')\n",
        "    \n",
        "    X_test =  writeOutputToFile('X_test', data_dir, (X.shape[0]-len_train, X.shape[1]), 'float32')\n",
        "    Y_test = writeOutputToFile('Y_train', data_dir, (X.shape[0]-len_train,), 'uint8')\n",
        "    return X_train, Y_train, X_test, Y_test"
      ],
      "outputs": [],
      "execution_count": null,
      "metadata": {
        "collapsed": false,
        "outputHidden": false,
        "inputHidden": false
      }
    },
    {
      "cell_type": "code",
      "source": [
        "# loading the (X, Y) == (flux, target-types)data sets\n",
        "X = np.load('Data_files/X_corrupted.npy', mmap_mode='r')\n",
        "Y = np.load('Data_files/Y_corrupted.npy', mmap_mode='r')\n",
        "\n",
        "# generate the indicies to train rather than samples, to reduce computational cost\n",
        "indexes_train, len_train = trainIndicies(Y, ratio)"
      ],
      "outputs": [],
      "execution_count": null,
      "metadata": {
        "collapsed": false,
        "outputHidden": false,
        "inputHidden": false
      }
    },
    {
      "cell_type": "code",
      "source": [
        "# create memory-mapped array for the (X, Y) training sets\n",
        "X_train, Y_train, X_test, Y_test = generateTrainTestFiles(len_train, X, data_dir)\n"
      ],
      "outputs": [],
      "execution_count": null,
      "metadata": {
        "collapsed": false,
        "outputHidden": false,
        "inputHidden": false
      }
    },
    {
      "cell_type": "code",
      "source": [],
      "outputs": [],
      "execution_count": null,
      "metadata": {
        "collapsed": false,
        "outputHidden": false,
        "inputHidden": false
      }
    },
    {
      "cell_type": "code",
      "source": [],
      "outputs": [],
      "execution_count": null,
      "metadata": {
        "collapsed": false,
        "outputHidden": false,
        "inputHidden": false
      }
    }
  ],
  "metadata": {
    "kernel_info": {
      "name": "python3"
    },
    "language_info": {
      "name": "python",
      "version": "3.7.0",
      "mimetype": "text/x-python",
      "codemirror_mode": {
        "name": "ipython",
        "version": 3
      },
      "pygments_lexer": "ipython3",
      "nbconvert_exporter": "python",
      "file_extension": ".py"
    },
    "kernelspec": {
      "name": "python3",
      "language": "python",
      "display_name": "Python 3"
    },
    "nteract": {
      "version": "0.12.3"
    }
  },
  "nbformat": 4,
  "nbformat_minor": 4
}