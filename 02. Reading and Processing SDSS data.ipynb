{
  "cells": [
    {
      "cell_type": "markdown",
      "source": [
        "# SDSS eBOSS Data \n",
        "## Script on reading and pre-processing data, and generation of a catalogue of desirable galaxy types\n",
        "\n",
        "This script extracts useful data from the spPlate and spAll_redrock fits files, and generates the required training data set.\n",
        "\n",
        "Note: all functions used are put together in the code cell preceeding the execution cell.\n",
        "\n",
        "1. **Defining input parameters**\n",
        "2. **Reading and pre-processing the data**\n",
        "3. **Applying selection cuts** <br>\n",
        "   3.1 **Selecting common wavelengths**\n",
        "5. **Generating the training data set**\n",
        "5. **Histograms showing the samples for every type of target**\n",
        "\n",
        "**Data**: 14th Oct, 2019. <br>\n",
        "**Author**: Soumya Shreeram <br>\n",
        "**Supervised by**: Anand Raichoor <br>\n",
        "**Script adapted from**: S. Ben Nejma\n"
      ],
      "metadata": {
        "inputHidden": false,
        "outputHidden": false
      }
    },
    {
      "cell_type": "code",
      "source": [
        "import astropy.io.fits as fits\n",
        "%matplotlib inline\n",
        "import matplotlib.pyplot as plt\n",
        "plt.rcParams.update({'font.size': 20})\n",
        "import numpy as np\n",
        "from numpy.lib.format import open_memmap\n",
        "import os\n",
        "import subprocess\n",
        "from astropy.convolution import convolve, Box1DKernel"
      ],
      "outputs": [],
      "execution_count": 24,
      "metadata": {
        "inputHidden": false,
        "outputHidden": false
      }
    },
    {
      "cell_type": "markdown",
      "source": [
        "## 1. Defining input parameters"
      ],
      "metadata": {}
    },
    {
      "cell_type": "code",
      "source": [
        "# data directory on lesta with the spAll_redrock files\n",
        "spPlate_dir = r'/hpcstorage/raichoor/spplatelist_v5_13_0/spPlate'\n",
        "spAll_redrock_file = r'/hpcstorage/raichoor/spplatelist_v5_13_0/' \\\n",
        "            'spall_redrock_v5_13_0.valid.fits'\n",
        "\n",
        "# number of plates of ELGs, LRG+QSOs, and Boss plates to select\n",
        "num_pl = 4 \n",
        "\n",
        "# return info about selected fibres?\n",
        "return_infos = True\n",
        "\n",
        "# select corrupted or uncorrunpter samples?\n",
        "uncorrupted = False\n",
        "\n",
        "# minimum - maximum wavelengths considered\n",
        "wmin, wmax = 3700, 10000\n",
        "\n",
        "# save all the fibre-ids for the selected plates in the file info.npy?\n",
        "return_infos=True"
      ],
      "outputs": [],
      "execution_count": 15,
      "metadata": {
        "inputHidden": false,
        "outputHidden": false
      }
    },
    {
      "cell_type": "markdown",
      "source": [
        "## 2. Reading the data"
      ],
      "metadata": {}
    },
    {
      "cell_type": "code",
      "source": [
        "def setName(data_dir, plate_mjd):\n",
        "    file_name = data_dir+'-'+plate_mjd+'.fits'\n",
        "    return file_name\n",
        "\n",
        "def readFile(filename):\n",
        "    \"\"\"\n",
        "    Function opens the file\n",
        "    @input filename :: name of the file\n",
        "    \"\"\"\n",
        "    hdu = fits.open(filename)\n",
        "    data = hdu[1].data\n",
        "    hdu.close()        \n",
        "    return data\n",
        "\n",
        "def plateMJD(data):\n",
        "    # defining the PLATE number, p, and MJD, m for all the files\n",
        "    pms = np.array([str(p)+'-'+ str(m) for p, m in zip(data['PLATE'],\n",
        "data['MJD'])])\n",
        "    return pms\n",
        "\n",
        "def uniquePmsProgramme(pms, data):\n",
        "    # selecting only the unique plates-mjd, and find their programmes\n",
        "    pms_unique, idx = np.unique(pms, return_index=True)\n",
        "    prog_unique = data['programname'][idx]\n",
        "    return pms_unique, prog_unique\n",
        "\n",
        "def applyWaveCuts(w, wmin, wmax):\n",
        "    idx = np.where((w>wmin) & (w<wmax))\n",
        "    return w[idx], idx      \n",
        "\n",
        "def readSpPlate(data_dir, plate_mjd, wmin, wmax):\n",
        "    \"\"\"\n",
        "    Function to read the useful headers and data from spPlate fits file\n",
        "    @param place :: 4-digit plate number\n",
        "    @param mjd :: 5-digit MJD\n",
        "    \n",
        "    @returns wavelength, bunit, flux, ivar (refer comments for individual meanings)\n",
        "    \"\"\"\n",
        "    # opens the file\n",
        "    hdu     = fits.open(setName(data_dir, plate_mjd))        \n",
        "        \n",
        "    c0      = hdu[0].header['coeff0']   # Central wavelength (log10) of first pixel\n",
        "    c1      = hdu[0].header['coeff1']   # Log10 dispersion per pixel\n",
        "    npix    = hdu[0].header['naxis1']   # WIDTH (TOTAL!\n",
        "    wavelength    = 10.**(c0 + c1 * np.arange(npix))\n",
        "    bunit   = hdu[0].header['bunit']    # Units of flux\n",
        "\n",
        "    flux    = hdu[0].data               # Flux in units of 10^-17^ erg/s/cm^2^/Ang\n",
        "    ivar    = hdu[1].data               # Inverse variance (1/sigma^2^) for HDU 0\n",
        "    hdu.close()\n",
        "    \n",
        "    # do cuts on wavelength\n",
        "    wavelength, widx = applyWaveCuts(wavelength, wmin, wmax)\n",
        "        \n",
        "    return wavelength, widx, bunit, flux, ivar\n",
        "\n",
        "def writeToFile(pms, outfilename, selected_plates, username):\n",
        "    \"\"\"\n",
        "    Function extracts the info from desired files and writes to a new file\n",
        "    @param pms :: complete array of plate nos. and MJD\n",
        "    @param outfilename :: output file name\n",
        "    @param selected_plates :: array of all the selected plates\n",
        "    \"\"\"    \n",
        "    # extract those plate-mjd files\n",
        "    extract_files = np.in1d(pms, selected_plates)\n",
        "    output = outfilename+username\n",
        "    \n",
        "    # write info to new fits file\n",
        "    hdu[1].data = hdu[1].data[extract_files]\n",
        "    return hdu.writeto(outfilename, overwrite=True)\n",
        "\n",
        "def writeOutputToFile(input_name, shape_arr, in_dtype):\n",
        "    \"\"\"\n",
        "    Write to a .npy file as a memory-mapped array\n",
        "    @param input_name :: array name\n",
        "    @param shape_arr :: shape of the array to be memory-mapped\n",
        "    \n",
        "    @return output_arr :: the memory-mapped array\n",
        "    \"\"\"\n",
        "    filename = 'Data_files/'+input_name+'.npy'\n",
        "    w1 = open_memmap(filename, dtype=in_dtype, mode='w+', shape=shape_arr)\n",
        "    return w1"
      ],
      "outputs": [],
      "execution_count": 3,
      "metadata": {
        "inputHidden": false,
        "outputHidden": false
      }
    },
    {
      "cell_type": "markdown",
      "source": [
        "## 3. Applying selection cuts\n",
        "\n",
        "The functions below implement various selection cuts to obtain the desired data. They are summarized below:\n",
        "* Select plates that observe **E**mission-**L**ine type **G**alaxies (ELGs), LRGs, and QSOs\n",
        "* Select wavelength that are common to all plates\n",
        "* Removing sky spectra and certain configurations\n",
        "* Select redshift range (Zspec fibres)"
      ],
      "metadata": {}
    },
    {
      "cell_type": "code",
      "source": [
        "def galaxyType(pms_unique, prog_unique, names, gal_type, num_p):\n",
        "    \"\"\"\n",
        "    Function chooses the file name based of desired galaxy type\n",
        "    @params pms_unique, prog_unique :: unique array of plate nos.-MJD & programmes\n",
        "    @param names :: array of names of the galaxies/programmes to select/de-select\n",
        "    @param gal_type :: string to distinguish the desired operations\n",
        "    @param num_p :: number of plates of each galaxy to select\n",
        "    \n",
        "    @returns sub_plates :: bool indicies of selected plates within pms unique\n",
        "    \"\"\"\n",
        "    if gal_type == 'ELG': # select ELG plates\n",
        "        sub_plates = np.random.choice(pms_unique[(prog_unique==names[0]) | \\\n",
        "                                    (prog_unique==names[1])],size=num_p).tolist()\n",
        "    elif gal_type == 'LRG+QSO': # select LRG+QSO plates\n",
        "         sub_plates = np.random.choice(pms_unique[(prog_unique==names[0]) & \\\n",
        "                                            (prog_unique!=names[1]) & \\\n",
        "                                            (prog_unique!=names[2])],size=num_p).tolist()\n",
        "    else: # select boss plates\n",
        "        sub_plates = np.random.choice(pms_unique[(prog_unique==names[0])],size=num_p).tolist()    \n",
        "    return np.in1d(pms_unique, sub_plates)\n",
        "\n",
        "    \n",
        "def selectPlates(pms_unique, prog_unique, num_pl):\n",
        "    \"\"\"\n",
        "    Function the selects plates containing ELGs, LRG+QSOs, and some random.\n",
        "    @param pms_unique :: arroy of plate nos. and MJDs\n",
        "    @param prog_unique :: list of unique programmes (eBoss/Boss)\n",
        "    @param num_pl :: number of plates of each category to select\n",
        "    \n",
        "    @returns selected_plates :: array of the file names containing desired galaxies\n",
        "    \"\"\"\n",
        "    selected_plates = np.zeros(len(pms_unique), dtype = bool)\n",
        "    \n",
        "    # select <<num_pl>> eboss ELG plates\n",
        "    names_elg = ['ELG_NGC', 'ELG_SGC']\n",
        "    selected_plates |= galaxyType(pms_unique, prog_unique, names_elg, 'ELG', num_pl)\n",
        "    \n",
        "    # select <<num_pl>> eboss LRG+QSO plates\n",
        "    names_lrgQso = ['eboss', 'ELG_NGC', 'ELG_SGC']\n",
        "    selected_plates |= galaxyType(pms_unique, prog_unique, names_lrgQso, 'LRG+QSO', num_pl)\n",
        "    \n",
        "    # select <<num_pl>> random boss plates\n",
        "    names_boss = ['boss']\n",
        "    selected_plates |= galaxyType(pms_unique, prog_unique, names_boss, 'boss plates', num_pl)\n",
        "    \n",
        "    return selected_plates\n",
        "\n",
        "def discardSkySpectra(data):\n",
        "    \"\"\"\n",
        "    Function derfines the conditions for discarding the sky spectra\n",
        "    and some othe factors\n",
        "    \"\"\"\n",
        "    data = data[(data['ZWARN'] == 0) & \\\n",
        "                (data['OBJTYPE'] != 'SKY') & \\\n",
        "                (data['CHI2']/data['NPIXELS'].astype(float) > 0.4) & \\\n",
        "                (data['DELTACHI2']/data['NPIXELS'].astype(float) > 0.0025) &\\\n",
        "                (data['OBJTYPE'] != 'SPECTROPHOTO_STD')] # deletes stars - flux cal.  \n",
        "    return data\n",
        "\n",
        "\n",
        "def selectCommonWaves(pms_unique, spPlate_dir, wmin, wmax):\n",
        "    \"\"\"\n",
        "    Function keeps common wavelengths observed in all files in range [wmin, wmax] \n",
        "    returns:\n",
        "    @npix :: no. of pixels == length of wavelengths selected\n",
        "    @delta :: difference between selected wavelengths in all files\n",
        "            => must be ~0 to be sure we are selecting same wavelengths\n",
        "    @w :: wavelengths selected between [wmin, wmax]\n",
        "    @wave_indicies_2D :: 2D-array of wavelength indicies for all the files\n",
        "    \"\"\"\n",
        "    npix, delta = [], []\n",
        "    for i, pm in enumerate(pms_unique):\n",
        "        if i == 0:\n",
        "            # wavelength saved from 1st file\n",
        "            w_0, idx, _, _, _ = readSpPlate(spPlate_dir, pm, wmin, wmax)        \n",
        "            npix.append(len(w_0)) \n",
        "            delta.append(0) \n",
        "            # generating 2D array to save indicies of selected waves\n",
        "            wave_indicies2D = np.empty((0, len(idx[0][:])))\n",
        "        else:\n",
        "            w, idx, _, _, _ = readSpPlate(spPlate_dir, pm, wmin, wmax)       \n",
        "            npix.append(len(w))\n",
        "            delta.append(np.unique(np.abs(w-w_0)).max())\n",
        "            \n",
        "        # saving the incidies of selected waves for all files\n",
        "        wave_indicies2D = np.append(wave_indicies2D, [idx[0][:]], axis=0)            \n",
        "    return npix, delta, w, wave_indicies2D"
      ],
      "outputs": [],
      "execution_count": 4,
      "metadata": {
        "inputHidden": false,
        "outputHidden": false
      }
    },
    {
      "cell_type": "code",
      "source": [
        "# reads the file spAll_redrock and generates arrays of unique plate-MJD and programs\n",
        "data = readFile(spAll_redrock_file)\n",
        "\n",
        "# sky spectra and other factors taken out\n",
        "data = discardSkySpectra(data)\n",
        "pms = plateMJD(data)\n",
        "\n",
        "# find unique pms, programmes\n",
        "pms_unique, prog_unique = uniquePmsProgramme(pms, data)\n",
        "\n",
        "# select plates containing ELGs, LRGs, QSOs, and some boss plates\n",
        "keep = selectPlates(pms_unique, prog_unique, num_pl)\n",
        "pms_unique, prog_unique = pms_unique[keep], prog_unique[keep]\n",
        "\n",
        "# print the selected plates\n",
        "print(\"Plate-MJD  | Programme\")\n",
        "for pm, prog in zip(pms_unique, prog_unique):     \n",
        "    print(pm, \" | \", prog)"
      ],
      "outputs": [
        {
          "output_type": "stream",
          "name": "stdout",
          "text": [
            "Plate-MJD  | Programme\n",
            "10000-58141  |  eboss\n",
            "10471-58132  |  ELG_NGC\n",
            "11074-58488  |  eboss\n",
            "4724-55742  |  boss\n",
            "4786-55651  |  boss\n",
            "6134-56244  |  boss\n",
            "6659-56607  |  boss\n",
            "8757-58428  |  eboss\n",
            "8851-57460  |  eboss\n",
            "9228-58014  |  ELG_SGC\n",
            "9234-58037  |  ELG_SGC\n",
            "9242-58022  |  ELG_SGC\n"
          ]
        }
      ],
      "execution_count": 5,
      "metadata": {
        "inputHidden": false,
        "outputHidden": false
      }
    },
    {
      "cell_type": "markdown",
      "source": [
        "### 3.1  Saves common wavelengths\n",
        "\n",
        "Although all the spectra have the same wavelengths, there is a slight offset at the start of wavelengths for every spectrum because of the varying pixel size. So we have chosen the wavelengths from the point (${\\rm wmin}$), where all the spectra have coinciding start values. However, we need to keep track of the indices of these start points, in order to know the corresponding fluxes. This is what we are trying to do in the following *code block*. "
      ],
      "metadata": {}
    },
    {
      "cell_type": "code",
      "source": [
        "# applies cuts on wavelengths, and stores all the indicies of selected wavelengths\n",
        "npix, delta, wave, wave_indicies = selectCommonWaves(pms_unique, spPlate_dir, wmin, wmax)\n",
        "\n",
        "# print some info        \n",
        "print(\"Total no. of unique wavelengths, ω = %.1f.\\\n",
        "      \\nMax. difference in wavelegths between the %d files Δω = %1.2e\"%(np.unique(npix),len(pms_unique),np.max(delta)))\n",
        "print(\"\\nShape of wavelength indicies for %d files:\"%len(pms_unique), np.shape(wave_indicies))\n",
        "\n",
        "# saves the wavelength in a memory-mapped array\n",
        "w = writeOutputToFile('wavelength', np.shape(wave), 'float32')\n",
        "w[:] = wave\n",
        "del w"
      ],
      "outputs": [
        {
          "output_type": "stream",
          "name": "stdout",
          "text": [
            "Total no. of unique wavelengths, ω = 4317.0.      \n",
            "Max. difference in wavelegths between the 12 files Δω = 1.09e-11\n",
            "\n",
            "Shape of wavelength indicies for 12 files: (12, 4317)\n"
          ]
        }
      ],
      "execution_count": 6,
      "metadata": {}
    },
    {
      "cell_type": "markdown",
      "source": [
        "## 4. Generating the training data sets"
      ],
      "metadata": {}
    },
    {
      "cell_type": "code",
      "source": [
        "def listOfFilenamesIDs(data, pms, return_infos, pms_unique):\n",
        "    \"\"\"\n",
        "    Function generates list of filenames with their fibre IDs for all selected fibres\n",
        "    @param data :: data from the spAllRedrock fiel\n",
        "    @param pms :: plate no. MJD info array of the spPlate files\n",
        "    @param return_infos :: if True saves all info to npy file\n",
        "    @param pms_unique :: list of unique selected pms files\n",
        "    \n",
        "    Returns:\n",
        "    @fibre_ids :: fibre-ids for all fibres in selected plates\n",
        "    @nb_fibres :: total number of selected fibres accross all plates\n",
        "    \"\"\"   \n",
        "    # list of fibre ids for selected files\n",
        "    fibre_ids = np.array([np.array(data[pms == pl_mjd]['FIBERID']-1) for pl_mjd in pms_unique])\n",
        "\n",
        "    # generating the pms array for the selected plates\n",
        "    nb_fibre, new_pms = 0, []\n",
        "    for i in range(len(pms_unique)):\n",
        "        nb_fibre += len(fibre_ids[i][:])\n",
        "        filename = (len(fibre_ids[i][:]))*[pms_unique[i]]\n",
        "        new_pms = np.concatenate((new_pms, filename), axis=0)   \n",
        "    \n",
        "    # saves the above info to a memory mapped array\n",
        "    if return_infos:\n",
        "        info = writeOutputToFile('info', (nb_fibre, 2), '<U30')\n",
        "        info[:,0] = new_pms\n",
        "        info[:,1] = np.array([str(f) for fibres in fibre_ids for f in fibres])        \n",
        "        del info\n",
        "    return fibre_ids, nb_fibre\n",
        "\n",
        "def fileNameMaps(uncorrupted, nb_fibers, len_waves):\n",
        "    \"\"\"\n",
        "    Names the files based on the samples to distinguish between classification and detection \n",
        "    @param uncorrupted :: bool stating the nature of the sample \n",
        "    @param nb_fibres :: total no. of selected fibres accross all plates\n",
        "    @wave_idxs :: length of array of wavelengths selected\n",
        "    \n",
        "    Returns:\n",
        "    @x_name, y_name :: name of the output file based on nature of sample\n",
        "    \"\"\"\n",
        "    if uncorrupted:\n",
        "        x_name = writeOutputToFile('X', (nb_fibers, len_waves), 'float32')\n",
        "        y_name = writeOutputToFile('Y', (nb_fibers,), 'float32')    \n",
        "    else:\n",
        "        x_name = writeOutputToFile('X_corrupted', (nb_fibers, len_waves), 'float32')\n",
        "        y_name = writeOutputToFile('Y_corrupted', (nb_fibers,), 'float32')\n",
        "    return x_name, y_name\n",
        "\n",
        "def saveFluxes(counter, wave_indicies, hdu, fibres):\n",
        "    \"\"\"\n",
        "    Function saves the fluxes for every selected fibre\n",
        "    @param counter :: dummy variable to iterate of fibres for every plate\n",
        "    @oaram hdu :: opened fits file\n",
        "    @param fibres :: int iterating over the selected fibres every plate\n",
        "    @wave_indicies :: 2D index array of all selected wavelengths for all every pm\n",
        "    \"\"\"    \n",
        "    # define index array corresponding to the selected wavelengths of every plate\n",
        "    idx = wave_indicies[j][:]\n",
        "    idx = idx.astype(int)\n",
        "    \n",
        "    # calculates the flux for required plates, and selected wavelengths\n",
        "    flux = np.array(hdu[0].data[fibres])[:, idx]\n",
        "    \n",
        "    X[counter:counter+len(fibres)][:] = np.array(flux)\n",
        "    \n",
        "    return X\n",
        "\n",
        "def saveTargetTypes(counter, hdu, fibres):\n",
        "    \"\"\"\n",
        "    Function to save the target type of the objects that the fibres are observing\n",
        "    @param counter :: dummy variable to iterate of fibres for every plate\n",
        "    @oaram hdu :: opened fits file\n",
        "    @param fibres :: int iterating over the selected fibres every plate\n",
        "    \"\"\"\n",
        "    # get the target type of all observed objects\n",
        "    targets =  [[x, y] for x, y in zip(data['SPECTYPE'][np.logical_and(\n",
        "                         data['PLATE'] == hdu[0].header['PLATEID'],\n",
        "                         data['MJD'] == hdu[0].header['MJD'])],\n",
        "                         data['SUBTYPE'][np.logical_and(\n",
        "                         data['PLATE'] == hdu[0].header['PLATEID'],\n",
        "                         data['MJD'] == hdu[0].header['MJD'])])]\n",
        "    \n",
        "    # convert the target types of objects to integers\n",
        "    targets_ints =  np.array([0 if element[0] == 'QSO'\n",
        "                                else 1 if element[0] == 'GALAXY'\n",
        "                                else 2 for element in targets])\n",
        "    Y[counter:counter+len(fibres)] = targets_ints\n",
        "    return Y"
      ],
      "outputs": [],
      "execution_count": 7,
      "metadata": {}
    },
    {
      "cell_type": "markdown",
      "source": [
        "The list of fibres selected for every plate are stored in *info.npy*. The X, Y files are generated that store the flux and target type for every fibre."
      ],
      "metadata": {}
    },
    {
      "cell_type": "code",
      "source": [
        "# saves the list of selected fibres\n",
        "fibre_ids, nb_fibers = listOfFilenamesIDs(data, pms, return_infos, pms_unique)\n",
        "\n",
        "# generates & sets name of file according to the samples (for classification vs detection)\n",
        "X, Y = fileNameMaps(uncorrupted, nb_fibers, len(wave))"
      ],
      "outputs": [],
      "execution_count": 20,
      "metadata": {}
    },
    {
      "cell_type": "code",
      "source": [
        "counter = 0\n",
        "for j, (pm, fibres) in enumerate(zip(pms_unique, fibre_ids)):\n",
        "    # opens the file\n",
        "    hdu     = fits.open(setName(spPlate_dir, pm))        \n",
        "        \n",
        "    # saves all fluxes in X: a memory-mapped array\n",
        "    X = saveFluxes(counter, wave_indicies, hdu, fibres)\n",
        "    \n",
        "    # saves the information about the type of target i.e. QSO, Galaxy, etc\n",
        "    Y = saveTargetTypes(counter, hdu, fibres)\n",
        "    \n",
        "    counter = counter+len(fibres)\n",
        "    hdu.close()"
      ],
      "outputs": [],
      "execution_count": 21,
      "metadata": {}
    },
    {
      "cell_type": "markdown",
      "source": [
        "## 5. Histogram showing the sample quantity for every label"
      ],
      "metadata": {}
    },
    {
      "cell_type": "code",
      "source": [
        "plt.figure(figsize=(6,5))\n",
        "fig = plt.hist(Y, bins=np.arange(4), align='left', histtype='bar', color=\"green\", ec=\"black\", lw=2)\n",
        "\n",
        "plt.xticks(np.arange(3),\n",
        "           labels=['Quasars', 'Galaxies', 'Other'],\n",
        "           rotation=0, fontsize=18)\n",
        "\n",
        "plt.yticks(fontsize=18)\n",
        "plt.ylabel('Number of objects')\n",
        "plt.xlabel('\\nTarget types (3 categories)')\n",
        "plt.title('Distribution of target types in data\\n')\n",
        "\n",
        "plt.savefig('Images/Histogram_categories.eps',\n",
        "            format=\"eps\", bbox_inches='tight')\n",
        "plt.show()"
      ],
      "outputs": [
        {
          "output_type": "display_data",
          "data": {
            "image/png": "[encoded data removed]",
            "text/plain": [
              "<Figure size 432x360 with 1 Axes>"
            ]
          },
          "metadata": {
            "needs_background": "light"
          }
        }
      ],
      "execution_count": 45,
      "metadata": {}
    }
  ],
  "metadata": {
    "kernel_info": {
      "name": "python3"
    },
    "kernelspec": {
      "name": "python3",
      "language": "python",
      "display_name": "Python 3"
    },
    "language_info": {
      "name": "python",
      "version": "3.7.0",
      "mimetype": "text/x-python",
      "codemirror_mode": {
        "name": "ipython",
        "version": 3
      },
      "pygments_lexer": "ipython3",
      "nbconvert_exporter": "python",
      "file_extension": ".py"
    },
    "nteract": {
      "version": "0.15.0"
    }
  },
  "nbformat": 4,
  "nbformat_minor": 4
}